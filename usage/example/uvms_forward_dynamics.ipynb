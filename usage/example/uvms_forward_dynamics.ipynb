{
 "cells": [
  {
   "cell_type": "code",
   "execution_count": 1,
   "metadata": {},
   "outputs": [
    {
     "name": "stdout",
     "output_type": "stream",
     "text": [
      "jit after {'jit': True, 'jit_options': {'flags': '-Ofast'}, 'compiler': 'shell'}\n",
      "number of joints = 4\n"
     ]
    }
   ],
   "source": [
    "%run uvms_base.ipynb"
   ]
  },
  {
   "cell_type": "code",
   "execution_count": null,
   "metadata": {},
   "outputs": [
    {
     "name": "stdout",
     "output_type": "stream",
     "text": [
      "floating_base found\n",
      "floating_base found\n",
      "floating_base found\n"
     ]
    }
   ],
   "source": [
    "# conditional function instances\n",
    "# coupled forward dynamics of uvms\n",
    "x_next_coupled, x_nextdd_coupled, states, u, dt, q_min, q_max, manipulator_p, vehicle_p, base_T, states_checks, u_checks  = rig_dyn.forward_dynamics(gravity=9.81, \n",
    "                                                                                    floating_base_id=tau_F,\n",
    "                                                                                    floating_base_bias_f=b_F , \n",
    "                                                                                    J_uv = J_uv, \n",
    "                                                                                    coupled=True)\n",
    "x_next_coupled_eval = cs.Function('UVMSnext_coupled', [states, u, dt, vehicle_p, manipulator_p, base_T ,q_min, q_max], [x_next_coupled, u_checks, x_nextdd_coupled])\n",
    "\n",
    "\n",
    "# decoupled forward dynamics of uvms\n",
    "x_next_decoupled, x_nextdd_decoupled, states, u, dt, q_min, q_max, manipulator_p, vehicle_p, base_T, states_checks, u_checks  = rig_dyn.forward_dynamics(gravity=9.81, \n",
    "                                                                                    floating_base_id=tau_F,\n",
    "                                                                                    floating_base_bias_f=b_F , \n",
    "                                                                                    J_uv = J_uv, \n",
    "                                                                                    coupled=False)\n",
    "\n",
    "x_next_decoupled_eval = cs.Function('UVMSnext_decoupled', [states, u, dt, vehicle_p, manipulator_p, base_T ,q_min, q_max], [x_next_decoupled, u_checks, x_nextdd_decoupled])\n",
    "\n",
    "\n",
    "\n",
    "UVMSnext_use_coupled = cs.Function.if_else('UVMSnext_use_coupled', x_next_coupled_eval, x_next_decoupled_eval)\n",
    "UVMSnext_use_coupled.save('uvms_forward_dynamics.casadi')"
   ]
  },
  {
   "cell_type": "code",
   "execution_count": 3,
   "metadata": {},
   "outputs": [
    {
     "data": {
      "text/plain": [
       "0"
      ]
     },
     "execution_count": 3,
     "metadata": {},
     "output_type": "execute_result"
    }
   ],
   "source": [
    "# c , cpp or matlab code generation for forward dynamics\n",
    "UVMSnext_use_coupled.generate(\"x_next_eval.c\")\n",
    "os.system(f\"gcc -fPIC -shared x_next_eval.c -o libUVMS_xnext.so\")"
   ]
  },
  {
   "cell_type": "code",
   "execution_count": 4,
   "metadata": {},
   "outputs": [
    {
     "data": {
      "text/plain": [
       "(DM([-8.74517e-07, 7.05486e-07, 8.61766e-05, -1.23883e-05, 2.56848e-05, -3.20227e-05, 5.6418e-05, 3.39991, 0.992479, 3.16098, -2.30676e-05, 1.74815e-05, -0.00010673, -0.000301368, 0.00065418, -0.000767976, 9.72111e-06, -0.000135709, 2.13649e-05, 0.000271337]),\n",
       " DM([0, 0, 0, 0, 0, 0, 0, 0, 0, 0]))"
      ]
     },
     "execution_count": 4,
     "metadata": {},
     "output_type": "execute_result"
    }
   ],
   "source": [
    "st_x0 = cs.vertcat(0,0,0, 0,0,0, 0.0, 3.4, 0.99245, 3.16073,   0, 0, 0, 0, 0, 0,  0.00751799, -0.0073626, 0.00281749, 0.0222385)\n",
    "u0 = cs.vertcat(0.0, 0, 0, 0, 0, 0, 0.0, 1.0, 0.0, 0.0)\n",
    "\n",
    "UVMSnext_use_coupled(use_coupled, st_x0, u0, alpha.delta_t, blue.sim_p, alpha.sim_p, alpha.base_T0, alpha.joint_min, alpha.joint_max)"
   ]
  },
  {
   "cell_type": "code",
   "execution_count": null,
   "metadata": {},
   "outputs": [],
   "source": []
  }
 ],
 "metadata": {
  "kernelspec": {
   "display_name": "Python 3",
   "language": "python",
   "name": "python3"
  },
  "language_info": {
   "codemirror_mode": {
    "name": "ipython",
    "version": 3
   },
   "file_extension": ".py",
   "mimetype": "text/x-python",
   "name": "python",
   "nbconvert_exporter": "python",
   "pygments_lexer": "ipython3",
   "version": "3.10.12"
  }
 },
 "nbformat": 4,
 "nbformat_minor": 2
}
