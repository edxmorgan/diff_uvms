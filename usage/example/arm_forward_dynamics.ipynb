{
 "cells": [
  {
   "cell_type": "code",
   "execution_count": 1,
   "metadata": {},
   "outputs": [
    {
     "name": "stdout",
     "output_type": "stream",
     "text": [
      "jit after {'jit': True, 'jit_options': {'flags': '-Ofast'}, 'compiler': 'shell'}\n",
      "number of joints = 4\n"
     ]
    }
   ],
   "source": [
    "%run base.ipynb"
   ]
  },
  {
   "cell_type": "code",
   "execution_count": 2,
   "metadata": {},
   "outputs": [
    {
     "name": "stdout",
     "output_type": "stream",
     "text": [
      "no floating_base found\n",
      "no floating_base found\n",
      "no floating_base found\n"
     ]
    }
   ],
   "source": [
    "x_next, states, u, dt, q_min, q_max ,arm_p, _, _ , _, _  = rig_dyn.forward_dynamics(gravity=9.81, floating_base_id=None, floating_base_bias_f=None, J_uv=None, coupled=False)\n",
    "F_next_ = cs.Function('forward_dynamics_base', [states, u, arm_p, dt, q_min, q_max], [x_next, u])\n",
    "# F_next_.save(\"ARM_model.casadi\")"
   ]
  },
  {
   "cell_type": "code",
   "execution_count": 3,
   "metadata": {},
   "outputs": [
    {
     "name": "stdout",
     "output_type": "stream",
     "text": [
      "[1.91372, 1.5, 0.992592, 3.16066, 0.0113435, 1.76312e-08, 0.00285151, -0.00439983]\n"
     ]
    }
   ],
   "source": [
    "q0 = [1.91318, 1.33339, 0.99245, 3.16073]\n",
    "q0dot = [0.00751799, -0.0073626, 0.00281749, 0.0222385]\n",
    "u0 = [0.0340454, -0.00441695, 0.0062739, -0.00505981]\n",
    "state0 = cs.vertcat(q0, q0dot)\n",
    "\n",
    "nextState , u = F_next_(state0, u0, alpha.sim_p, alpha.delta_t, alpha.joint_min, alpha.joint_max)\n",
    "print(nextState)"
   ]
  },
  {
   "cell_type": "code",
   "execution_count": 5,
   "metadata": {},
   "outputs": [],
   "source": [
    "# # c , cpp or matlab code generation for forward dynamics\n",
    "# F_next_d.generate(\"F_next_.c\")\n",
    "# os.system(f\"gcc -fPIC -shared F_next_.c -o libMnext.so\")"
   ]
  }
 ],
 "metadata": {
  "kernelspec": {
   "display_name": "Python 3",
   "language": "python",
   "name": "python3"
  },
  "language_info": {
   "codemirror_mode": {
    "name": "ipython",
    "version": 3
   },
   "file_extension": ".py",
   "mimetype": "text/x-python",
   "name": "python",
   "nbconvert_exporter": "python",
   "pygments_lexer": "ipython3",
   "version": "3.9.6"
  }
 },
 "nbformat": 4,
 "nbformat_minor": 2
}
