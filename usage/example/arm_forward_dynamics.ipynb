{
 "cells": [
  {
   "cell_type": "code",
   "execution_count": 1,
   "metadata": {},
   "outputs": [
    {
     "name": "stdout",
     "output_type": "stream",
     "text": [
      "jit after {'jit': True, 'jit_options': {'flags': '-Ofast'}, 'compiler': 'shell'}\n",
      "number of joints = 4\n"
     ]
    }
   ],
   "source": [
    "%run base.ipynb"
   ]
  },
  {
   "cell_type": "code",
   "execution_count": 2,
   "metadata": {},
   "outputs": [],
   "source": [
    "# forward dynamics\n",
    "gravity = 9.81\n",
    "x_next, rhs_xdd, states, u, dt, q_min, q_max ,arm_p, _ , _, _  = rig_dyn.forward_dynamics(gravity=gravity)"
   ]
  },
  {
   "cell_type": "code",
   "execution_count": 3,
   "metadata": {},
   "outputs": [],
   "source": [
    "# forces and moments at the base\n",
    "F_at_base = rig_dyn.get_base_forces(gravity=gravity)\n",
    "F_at_base_eval = cs.Function(\n",
    "    'F_at_base', [arm_ss.q, arm_ss.q_dot, arm_ss.q_ddot, arm_ss.sim_p, arm_ss.base_T], [F_at_base])\n",
    "\n",
    "F_minus_xdd = F_at_base_eval(arm_ss.q, arm_ss.q_dot, rhs_xdd, arm_ss.sim_p, arm_ss.base_T)"
   ]
  },
  {
   "cell_type": "code",
   "execution_count": 4,
   "metadata": {},
   "outputs": [],
   "source": [
    "F_next_ = cs.Function('Mnext', [states, u, arm_p, dt, q_min, q_max, arm_ss.base_T], [x_next, F_minus_xdd])\n",
    "# F_next_.save(\"ARM_model.casadi\")"
   ]
  },
  {
   "cell_type": "code",
   "execution_count": 5,
   "metadata": {},
   "outputs": [
    {
     "name": "stdout",
     "output_type": "stream",
     "text": [
      "[1.91365, 1.3333, 0.99258, 3.16057, 0.0136181, -0.00252834, 0.00374711, -0.0050495]\n"
     ]
    }
   ],
   "source": [
    "q0 = [1.91318, 1.33339, 0.99245, 3.16073]\n",
    "q0dot = [0.00751799, -0.0073626, 0.00281749, 0.0222385]\n",
    "u0 = [0.0340454, -0.00441695, 0.0062739, -0.00505981]\n",
    "state0 = cs.vertcat(q0, q0dot)\n",
    "\n",
    "nextState , f_eval_base  = F_next_(state0, u0, alpha.sim_p, alpha.delta_t, alpha.joint_min, alpha.joint_max,alpha.base_T0)\n",
    "print(nextState)"
   ]
  },
  {
   "cell_type": "code",
   "execution_count": 6,
   "metadata": {},
   "outputs": [
    {
     "data": {
      "text/plain": [
       "DM([-0.0341067, -2.18484, -0.00539287, 0.00016056, -0.016234, 10.519])"
      ]
     },
     "execution_count": 6,
     "metadata": {},
     "output_type": "execute_result"
    }
   ],
   "source": [
    "f_eval_base"
   ]
  },
  {
   "cell_type": "code",
   "execution_count": 7,
   "metadata": {},
   "outputs": [
    {
     "name": "stdout",
     "output_type": "stream",
     "text": [
      "[1.91318, 1.33338, 0.992452, 3.16073, -3.20547e-08, -0.00020363, 5.65792e-05, 5.15347e-05]\n"
     ]
    }
   ],
   "source": [
    "q0 = [1.91318, 1.33339, 0.99245, 3.16073]\n",
    "q0dot = [0.0, 0.0, 0.0, 0.0]\n",
    "u0 = [0.0, 0.0, 0.0, 0.0]\n",
    "state0 = cs.vertcat(q0, q0dot)\n",
    "\n",
    "nextState , f_eval_base  = F_next_(state0, u0, alpha.sim_p, alpha.delta_t, alpha.joint_min, alpha.joint_max,alpha.base_T0)\n",
    "print(nextState)"
   ]
  },
  {
   "cell_type": "code",
   "execution_count": 8,
   "metadata": {},
   "outputs": [
    {
     "data": {
      "text/plain": [
       "DM([-0.0320159, -2.18003, 2.38073e-07, -4.5666e-05, -1.01317e-06, 10.5059])"
      ]
     },
     "execution_count": 8,
     "metadata": {},
     "output_type": "execute_result"
    }
   ],
   "source": [
    "f_eval_base"
   ]
  },
  {
   "cell_type": "code",
   "execution_count": 6,
   "metadata": {},
   "outputs": [
    {
     "data": {
      "text/plain": [
       "0"
      ]
     },
     "execution_count": 6,
     "metadata": {},
     "output_type": "execute_result"
    }
   ],
   "source": [
    "# # c , cpp or matlab code generation for forward dynamics\n",
    "# F_next_.generate(\"F_next_.c\")\n",
    "# os.system(f\"gcc -fPIC -shared F_next_.c -o libMnext.so\")"
   ]
  },
  {
   "cell_type": "code",
   "execution_count": null,
   "metadata": {},
   "outputs": [],
   "source": [
    "\n"
   ]
  }
 ],
 "metadata": {
  "kernelspec": {
   "display_name": "Python 3",
   "language": "python",
   "name": "python3"
  },
  "language_info": {
   "codemirror_mode": {
    "name": "ipython",
    "version": 3
   },
   "file_extension": ".py",
   "mimetype": "text/x-python",
   "name": "python",
   "nbconvert_exporter": "python",
   "pygments_lexer": "ipython3",
   "version": "3.9.6"
  }
 },
 "nbformat": 4,
 "nbformat_minor": 2
}
