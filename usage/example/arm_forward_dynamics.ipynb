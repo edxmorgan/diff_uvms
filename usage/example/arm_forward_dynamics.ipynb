{
 "cells": [
  {
   "cell_type": "code",
   "execution_count": 1,
   "metadata": {},
   "outputs": [
    {
     "name": "stdout",
     "output_type": "stream",
     "text": [
      "jit after {'jit': True, 'jit_options': {'flags': '-Ofast'}, 'compiler': 'shell'}\n",
      "number of joints = 4\n"
     ]
    }
   ],
   "source": [
    "%run base.ipynb"
   ]
  },
  {
   "cell_type": "code",
   "execution_count": 2,
   "metadata": {},
   "outputs": [],
   "source": [
    "# forward dynamics\n",
    "\n",
    "x_next, rhs_xdd, states, u, dt, q_min, q_max ,arm_p, _ , _, u_clamped  = rig_dyn.forward_dynamics()"
   ]
  },
  {
   "cell_type": "code",
   "execution_count": 3,
   "metadata": {},
   "outputs": [],
   "source": [
    "# forces and moments at the base\n",
    "F_at_base = rig_dyn.get_base_forces()\n",
    "F_at_base_eval = cs.Function(\n",
    "    'F_at_base', [arm_ss.q, arm_ss.q_dot, arm_ss.q_ddot, arm_ss.sim_p, arm_ss.gravity, arm_ss.base_T, q_min, q_max], [cs.vertcat(F_at_base[3:6], F_at_base[0:3])])\n",
    "\n",
    "F_minus_xdd = F_at_base_eval(arm_ss.q, arm_ss.q_dot, rhs_xdd, arm_ss.sim_p, arm_ss.base_gravity, arm_ss.base_T, q_min, q_max)"
   ]
  },
  {
   "cell_type": "code",
   "execution_count": 4,
   "metadata": {},
   "outputs": [],
   "source": [
    "# # rl\n",
    "# rl_F_next = cs.Function('Mnext', [states, u, arm_p, dt, q_min, q_max, arm_ss.gravity, arm_ss.noise], [x_next, u_clamped])\n",
    "# rl_F_next.save(\"model.casadi\")"
   ]
  },
  {
   "cell_type": "code",
   "execution_count": 5,
   "metadata": {},
   "outputs": [],
   "source": [
    "F_next_ = cs.Function('Mnext', [states, u, arm_p, dt, q_min, q_max, arm_ss.gravity, arm_ss.base_gravity, arm_ss.base_T, arm_ss.noise], [x_next, F_minus_xdd])"
   ]
  },
  {
   "cell_type": "code",
   "execution_count": 6,
   "metadata": {},
   "outputs": [
    {
     "name": "stdout",
     "output_type": "stream",
     "text": [
      "[3.1005, 0.699902, 0.400137, 2.09984, 0.0144958, -0.00263048, 0.00396732, -0.00508349]\n"
     ]
    }
   ],
   "source": [
    "q0 = [3.1, 0.7, 0.4, 2.1]\n",
    "q0dot = [0.00751799, -0.0073626, 0.00281749, 0.0222385]\n",
    "u0 = [0.0340454, -0.00441695, 0.0062739, -0.00505981]\n",
    "state0 = cs.vertcat(q0, q0dot)\n",
    "noise = [0.0340454, -0.00441695, 0.0062739, -0.00505981]\n",
    "# noise = [0.0, 0.0, 0.0, 0.0]\n",
    "nextState , f_eval_base  = F_next_(state0, u0, alpha.sim_p, alpha.delta_t, alpha.joint_min, alpha.joint_max, alpha.gravity, alpha.base_gravity,\n",
    "                                    alpha.base_T0, noise)\n",
    "print(nextState)"
   ]
  },
  {
   "cell_type": "code",
   "execution_count": 7,
   "metadata": {},
   "outputs": [
    {
     "data": {
      "text/plain": [
       "DM([0.00832758, 0.0184997, -10.4967, -0.0142212, 0.968102, 0.000263118])"
      ]
     },
     "execution_count": 7,
     "metadata": {},
     "output_type": "execute_result"
    }
   ],
   "source": [
    "f_eval_base"
   ]
  },
  {
   "cell_type": "code",
   "execution_count": 8,
   "metadata": {},
   "outputs": [
    {
     "name": "stdout",
     "output_type": "stream",
     "text": [
      "[3.10003, 0.69999, 0.400009, 2.1, 0.000877631, -0.000305773, 0.000276786, -2.36831e-05]\n"
     ]
    }
   ],
   "source": [
    "q0 = [3.1, 0.7, 0.4, 2.1]\n",
    "q0dot = [0.0, 0.0, 0.0, 0.0]\n",
    "u0 = [0.0, 0.0, 0.0, 0.0]\n",
    "state0 = cs.vertcat(q0, q0dot)\n",
    "\n",
    "nextState , f_eval_base  = F_next_(state0, u0, alpha.sim_p, alpha.delta_t, alpha.joint_min, alpha.joint_max, alpha.gravity,\n",
    "                                    alpha.base_gravity, \n",
    "                                    alpha.base_T0,\n",
    "                                    noise\n",
    "                                    )\n",
    "print(nextState)"
   ]
  },
  {
   "cell_type": "code",
   "execution_count": 9,
   "metadata": {},
   "outputs": [
    {
     "data": {
      "text/plain": [
       "DM([-0.00077408, 0.00599551, -10.5072, -0.015311, 0.967722, 0.000402794])"
      ]
     },
     "execution_count": 9,
     "metadata": {},
     "output_type": "execute_result"
    }
   ],
   "source": [
    "f_eval_base"
   ]
  },
  {
   "cell_type": "code",
   "execution_count": 9,
   "metadata": {},
   "outputs": [
    {
     "data": {
      "text/plain": [
       "0"
      ]
     },
     "execution_count": 9,
     "metadata": {},
     "output_type": "execute_result"
    }
   ],
   "source": [
    "# # c , cpp or matlab code generation for forward dynamics\n",
    "# F_next_.generate(\"F_next_.c\")\n",
    "# os.system(f\"gcc -fPIC -shared F_next_.c -o libMnext.so\")"
   ]
  },
  {
   "cell_type": "code",
   "execution_count": null,
   "metadata": {},
   "outputs": [],
   "source": [
    "\n"
   ]
  }
 ],
 "metadata": {
  "kernelspec": {
   "display_name": "Python 3",
   "language": "python",
   "name": "python3"
  },
  "language_info": {
   "codemirror_mode": {
    "name": "ipython",
    "version": 3
   },
   "file_extension": ".py",
   "mimetype": "text/x-python",
   "name": "python",
   "nbconvert_exporter": "python",
   "pygments_lexer": "ipython3",
   "version": "3.9.6"
  }
 },
 "nbformat": 4,
 "nbformat_minor": 2
}
