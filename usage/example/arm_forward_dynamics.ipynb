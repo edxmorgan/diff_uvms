{
 "cells": [
  {
   "cell_type": "code",
   "execution_count": 1,
   "metadata": {},
   "outputs": [
    {
     "name": "stdout",
     "output_type": "stream",
     "text": [
      "jit after {'jit': True, 'jit_options': {'flags': '-Ofast'}, 'compiler': 'shell'}\n",
      "number of joints = 4\n",
      "floating_base found\n",
      "no floating_base found\n",
      "floating_base found\n",
      "no floating_base found\n",
      "floating_base found\n",
      "no floating_base found\n",
      "floating_base found\n",
      "no floating_base found\n",
      "[115.143, 117.481, 3.33301, 177.52]\n",
      "[115.143, 117.481, 3.33301, 177.52]\n",
      "[3.31188, 3.45983, 2.63969, 60.0617]\n",
      "[3.31188, 3.45983, 2.63969, 60.0617]\n"
     ]
    }
   ],
   "source": [
    "%run arm_dynamics.ipynb"
   ]
  },
  {
   "cell_type": "code",
   "execution_count": 4,
   "metadata": {},
   "outputs": [
    {
     "name": "stdout",
     "output_type": "stream",
     "text": [
      "floating_base found\n",
      "no floating_base found\n",
      "floating_base found\n",
      "no floating_base found\n",
      "floating_base found\n",
      "no floating_base found\n",
      "parameters used\n"
     ]
    }
   ],
   "source": [
    "x_next, states, u, parameters = rig_dyn.forward_dynamics(gravity=9.81, floating_base_id=None, floating_base_bias_f=None, J_uv=None, coupled=False)\n",
    "F_next_ = cs.Function('forward_dynamics_base', [states, u, parameters, ss.q_min, ss.q_max], [x_next])\n",
    "F_next_.save(\"model.casadi\")"
   ]
  },
  {
   "cell_type": "code",
   "execution_count": 3,
   "metadata": {},
   "outputs": [
    {
     "name": "stdout",
     "output_type": "stream",
     "text": [
      "[1.91361, 1.5, 0.992564, 3.1607, 0.0113298, 0, 0, 0]\n"
     ]
    }
   ],
   "source": [
    "q0 = [1.91318, 1.33339, 0.99245, 3.16073]\n",
    "q0dot = [0.00751799, -0.0073626, 0.00281749, 0.0222385]\n",
    "u0 = [0.0340454, -0.00441695, 0.0062739, -0.00505981]\n",
    "dt0 = 0.04\n",
    "\n",
    "fd_p = cs.vertcat(rigid_body_p_est, arm_Hyd__p_est, dt0, base_T0)\n",
    "xt_1 = cs.vertcat(q0, q0dot)\n",
    "\n",
    "xt = F_next_(xt_1, u0, fd_p,  joint_min, joint_max)\n",
    "print(xt)"
   ]
  },
  {
   "cell_type": "code",
   "execution_count": 4,
   "metadata": {},
   "outputs": [],
   "source": [
    "# # c , cpp or matlab code generation for forward dynamics\n",
    "# F_next_d.generate(\"F_next_.c\")\n",
    "# os.system(f\"gcc -fPIC -shared F_next_.c -o libMnext.so\")"
   ]
  },
  {
   "cell_type": "code",
   "execution_count": null,
   "metadata": {},
   "outputs": [],
   "source": []
  },
  {
   "cell_type": "code",
   "execution_count": null,
   "metadata": {},
   "outputs": [],
   "source": []
  }
 ],
 "metadata": {
  "kernelspec": {
   "display_name": "Python 3",
   "language": "python",
   "name": "python3"
  },
  "language_info": {
   "codemirror_mode": {
    "name": "ipython",
    "version": 3
   },
   "file_extension": ".py",
   "mimetype": "text/x-python",
   "name": "python",
   "nbconvert_exporter": "python",
   "pygments_lexer": "ipython3",
   "version": "3.9.6"
  }
 },
 "nbformat": 4,
 "nbformat_minor": 2
}
