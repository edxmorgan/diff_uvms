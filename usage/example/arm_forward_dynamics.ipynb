{
 "cells": [
  {
   "cell_type": "code",
   "execution_count": 1,
   "metadata": {},
   "outputs": [
    {
     "name": "stdout",
     "output_type": "stream",
     "text": [
      "jit after {'jit': True, 'jit_options': {'flags': '-Ofast'}, 'compiler': 'shell'}\n",
      "number of joints = 4\n"
     ]
    }
   ],
   "source": [
    "%run base.ipynb"
   ]
  },
  {
   "cell_type": "code",
   "execution_count": 2,
   "metadata": {},
   "outputs": [],
   "source": [
    "# forward dynamics\n",
    "x_next, rhs_xdd, states, u, dt, q_min, q_max ,arm_p, _ , _, _  = rig_dyn.forward_dynamics(gravity=9.81)\n",
    "\n",
    "# forces and moments at the base\n",
    "F_at_base = rig_dyn.get_base_forces(gravity=9.81)\n",
    "F_at_base_eval = cs.Function(\n",
    "    'F_at_base', [arm_ss.q, arm_ss.q_dot, arm_ss.q_ddot, arm_ss.sim_p, arm_ss.base_T], [F_at_base])\n",
    "\n",
    "F_minus_xdd = F_at_base_eval(arm_ss.q, arm_ss.q_dot, rhs_xdd, arm_ss.sim_p, arm_ss.base_T)"
   ]
  },
  {
   "cell_type": "code",
   "execution_count": 3,
   "metadata": {},
   "outputs": [],
   "source": [
    "F_next_ = cs.Function('Mnext', [states, u, arm_p, dt, q_min, q_max, arm_ss.base_T], [x_next, F_minus_xdd])\n",
    "# F_next_.save(\"ARM_model.casadi\")"
   ]
  },
  {
   "cell_type": "code",
   "execution_count": 4,
   "metadata": {},
   "outputs": [
    {
     "name": "stdout",
     "output_type": "stream",
     "text": [
      "[1.91365, 1.3333, 0.992578, 3.16057, 0.0136182, -0.00232471, 0.00369053, -0.00505981]\n"
     ]
    }
   ],
   "source": [
    "q0 = [1.91318, 1.33339, 0.99245, 3.16073]\n",
    "q0dot = [0.00751799, -0.0073626, 0.00281749, 0.0222385]\n",
    "u0 = [0.0340454, -0.00441695, 0.0062739, -0.00505981]\n",
    "state0 = cs.vertcat(q0, q0dot)\n",
    "\n",
    "nextState , f_eval_base  = F_next_(state0, u0, alpha.sim_p, alpha.delta_t, alpha.joint_min, alpha.joint_max,alpha.base_T0)\n",
    "print(nextState)"
   ]
  },
  {
   "cell_type": "code",
   "execution_count": 6,
   "metadata": {},
   "outputs": [
    {
     "data": {
      "text/plain": [
       "0"
      ]
     },
     "execution_count": 6,
     "metadata": {},
     "output_type": "execute_result"
    }
   ],
   "source": [
    "# c , cpp or matlab code generation for forward dynamics\n",
    "F_next_.generate(\"F_next_.c\")\n",
    "os.system(f\"gcc -fPIC -shared F_next_.c -o libMnext.so\")"
   ]
  },
  {
   "cell_type": "code",
   "execution_count": null,
   "metadata": {},
   "outputs": [],
   "source": [
    "\n"
   ]
  }
 ],
 "metadata": {
  "kernelspec": {
   "display_name": "Python 3",
   "language": "python",
   "name": "python3"
  },
  "language_info": {
   "codemirror_mode": {
    "name": "ipython",
    "version": 3
   },
   "file_extension": ".py",
   "mimetype": "text/x-python",
   "name": "python",
   "nbconvert_exporter": "python",
   "pygments_lexer": "ipython3",
   "version": "3.9.6"
  }
 },
 "nbformat": 4,
 "nbformat_minor": 2
}
