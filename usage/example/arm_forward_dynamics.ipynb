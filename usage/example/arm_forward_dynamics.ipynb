{
 "cells": [
  {
   "cell_type": "code",
   "execution_count": 1,
   "metadata": {},
   "outputs": [
    {
     "name": "stdout",
     "output_type": "stream",
     "text": [
      "jit after {'jit': True, 'jit_options': {'flags': '-Ofast'}, 'compiler': 'shell'}\n",
      "number of joints = 4\n"
     ]
    }
   ],
   "source": [
    "%run base.ipynb"
   ]
  },
  {
   "cell_type": "code",
   "execution_count": 2,
   "metadata": {},
   "outputs": [],
   "source": [
    "# forward dynamics\n",
    "\n",
    "x_next, rhs_xdd, states, u, dt, q_min, q_max ,arm_p, _ , _, _  = rig_dyn.forward_dynamics()"
   ]
  },
  {
   "cell_type": "code",
   "execution_count": 3,
   "metadata": {},
   "outputs": [],
   "source": [
    "# forces and moments at the base\n",
    "F_at_base = rig_dyn.get_base_forces()\n",
    "F_at_base_eval = cs.Function(\n",
    "    'F_at_base', [arm_ss.q, arm_ss.q_dot, arm_ss.q_ddot, arm_ss.sim_p, arm_ss.gravity, arm_ss.base_T], [cs.vertcat(F_at_base[3:6], F_at_base[0:3])])\n",
    "\n",
    "F_minus_xdd = F_at_base_eval(arm_ss.q, arm_ss.q_dot, rhs_xdd, arm_ss.sim_p, arm_ss.base_gravity, arm_ss.base_T)"
   ]
  },
  {
   "cell_type": "code",
   "execution_count": 4,
   "metadata": {},
   "outputs": [],
   "source": [
    "F_next_ = cs.Function('Mnext', [states, u, arm_p, dt, q_min, q_max, arm_ss.gravity, arm_ss.base_gravity, arm_ss.base_T], [x_next, F_minus_xdd])\n",
    "# F_next_.save(\"ARM_model.casadi\")"
   ]
  },
  {
   "cell_type": "code",
   "execution_count": 5,
   "metadata": {},
   "outputs": [
    {
     "name": "stdout",
     "output_type": "stream",
     "text": [
      "[3.10047, 0.699907, 0.400129, 2.09984, 0.0136182, -0.00247992, 0.0037294, -0.00503415]\n"
     ]
    }
   ],
   "source": [
    "q0 = [3.1, 0.7, 0.4, 2.1]\n",
    "q0dot = [0.00751799, -0.0073626, 0.00281749, 0.0222385]\n",
    "u0 = [0.0340454, -0.00441695, 0.0062739, -0.00505981]\n",
    "state0 = cs.vertcat(q0, q0dot)\n",
    "\n",
    "nextState , f_eval_base  = F_next_(state0, u0, alpha.sim_p, alpha.delta_t, alpha.joint_min, alpha.joint_max, alpha.gravity, alpha.base_gravity, alpha.base_T0)\n",
    "print(nextState)"
   ]
  },
  {
   "cell_type": "code",
   "execution_count": 6,
   "metadata": {},
   "outputs": [
    {
     "data": {
      "text/plain": [
       "DM([0.00863771, 0.0167685, -10.4963, -0.0143349, 0.968136, 0.000255273])"
      ]
     },
     "execution_count": 6,
     "metadata": {},
     "output_type": "execute_result"
    }
   ],
   "source": [
    "f_eval_base"
   ]
  },
  {
   "cell_type": "code",
   "execution_count": 7,
   "metadata": {},
   "outputs": [
    {
     "name": "stdout",
     "output_type": "stream",
     "text": [
      "[3.1, 0.699995, 0.400001, 2.1, -1.99705e-15, -0.00015522, 3.88695e-05, 0.000128295]\n"
     ]
    }
   ],
   "source": [
    "q0 = [3.1, 0.7, 0.4, 2.1]\n",
    "q0dot = [0.0, 0.0, 0.0, 0.0]\n",
    "u0 = [0.0, 0.0, 0.0, 0.0]\n",
    "state0 = cs.vertcat(q0, q0dot)\n",
    "\n",
    "nextState , f_eval_base  = F_next_(state0, u0, alpha.sim_p, alpha.delta_t, alpha.joint_min, alpha.joint_max, alpha.gravity, alpha.base_gravity, alpha.base_T0)\n",
    "print(nextState)"
   ]
  },
  {
   "cell_type": "code",
   "execution_count": 8,
   "metadata": {},
   "outputs": [
    {
     "data": {
      "text/plain": [
       "DM([-0.000463945, 0.00426433, -10.5068, -0.0154247, 0.967756, 0.000394949])"
      ]
     },
     "execution_count": 8,
     "metadata": {},
     "output_type": "execute_result"
    }
   ],
   "source": [
    "f_eval_base"
   ]
  },
  {
   "cell_type": "code",
   "execution_count": 9,
   "metadata": {},
   "outputs": [
    {
     "data": {
      "text/plain": [
       "0"
      ]
     },
     "execution_count": 9,
     "metadata": {},
     "output_type": "execute_result"
    }
   ],
   "source": [
    "# # c , cpp or matlab code generation for forward dynamics\n",
    "# F_next_.generate(\"F_next_.c\")\n",
    "# os.system(f\"gcc -fPIC -shared F_next_.c -o libMnext.so\")"
   ]
  },
  {
   "cell_type": "code",
   "execution_count": null,
   "metadata": {},
   "outputs": [],
   "source": [
    "\n"
   ]
  }
 ],
 "metadata": {
  "kernelspec": {
   "display_name": "Python 3",
   "language": "python",
   "name": "python3"
  },
  "language_info": {
   "codemirror_mode": {
    "name": "ipython",
    "version": 3
   },
   "file_extension": ".py",
   "mimetype": "text/x-python",
   "name": "python",
   "nbconvert_exporter": "python",
   "pygments_lexer": "ipython3",
   "version": "3.10.12"
  }
 },
 "nbformat": 4,
 "nbformat_minor": 2
}
