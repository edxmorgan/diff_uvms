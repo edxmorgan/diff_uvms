{
 "cells": [
  {
   "cell_type": "code",
   "execution_count": 1,
   "metadata": {},
   "outputs": [
    {
     "name": "stdout",
     "output_type": "stream",
     "text": [
      "jit after {'jit': True, 'jit_options': {'flags': '-Ofast'}, 'compiler': 'shell'}\n",
      "number of joints = 4\n"
     ]
    }
   ],
   "source": [
    "%run base.ipynb"
   ]
  },
  {
   "cell_type": "code",
   "execution_count": 2,
   "metadata": {},
   "outputs": [],
   "source": [
    "i_X_p, i_X_0s = rig_dyn.forward_kinematics(floating_base = True)"
   ]
  },
  {
   "cell_type": "code",
   "execution_count": 3,
   "metadata": {},
   "outputs": [],
   "source": [
    "H0 , R0, p0 = pluck.spatial_to_homogeneous(i_X_0s[0])\n",
    "T0 = cs.vertcat(p0, quatT.rotation_matrix_to_quaternion(R0, order='wxyz'))\n",
    "T0_euler = cs.vertcat(p0, pluck.rotation_matrix_to_euler(R0, order='xyz'))\n",
    "dIFF_KinJ0 = cs.jacobian(T0_euler, cs.vertcat(uvms_ss.n))\n",
    "dIFF2_KinJ0 = cs.jacobian(dIFF_KinJ0, cs.vertcat(uvms_ss.n))\n",
    "dot_J0 = cs.mtimes(dIFF2_KinJ0, uvms_ss.dn).reshape((6, 10))\n",
    "\n",
    "H1 , R1, p1 = pluck.spatial_to_homogeneous(i_X_0s[1])\n",
    "T1 = cs.vertcat(p1, quatT.rotation_matrix_to_quaternion(R1, order='wxyz'))\n",
    "T1_euler = cs.vertcat(p1, pluck.rotation_matrix_to_euler(R1, order='xyz'))\n",
    "dIFF_KinJ1 = cs.jacobian(T1_euler, cs.vertcat(uvms_ss.n))\n",
    "dIFF2_KinJ1 = cs.jacobian(dIFF_KinJ1, cs.vertcat(uvms_ss.n))\n",
    "dot_J1 = cs.mtimes(dIFF2_KinJ1, uvms_ss.dn).reshape((6, 10))\n",
    "\n",
    "H2 , R2, p2 = pluck.spatial_to_homogeneous(i_X_0s[2])\n",
    "T2 = cs.vertcat(p2, quatT.rotation_matrix_to_quaternion(R2, order='wxyz'))\n",
    "T2_euler = cs.vertcat(p2, pluck.rotation_matrix_to_euler(R2, order='xyz'))\n",
    "dIFF_KinJ2 = cs.jacobian(T2_euler, cs.vertcat(uvms_ss.n))\n",
    "dIFF2_KinJ2 = cs.jacobian(dIFF_KinJ2, cs.vertcat(uvms_ss.n))\n",
    "dot_J2 = cs.mtimes(dIFF2_KinJ2, uvms_ss.dn).reshape((6, 10))\n",
    "\n",
    "H3 , R3, p3 = pluck.spatial_to_homogeneous(i_X_0s[3])\n",
    "T3 = cs.vertcat(p3, quatT.rotation_matrix_to_quaternion(R3, order='wxyz'))\n",
    "T3_euler = cs.vertcat(p3, pluck.rotation_matrix_to_euler(R3, order='xyz'))\n",
    "dIFF_KinJ3 = cs.jacobian(T3_euler, cs.vertcat(uvms_ss.n))\n",
    "dIFF2_KinJ3 = cs.jacobian(dIFF_KinJ3, cs.vertcat(uvms_ss.n))\n",
    "dot_J3 = cs.mtimes(dIFF2_KinJ3, uvms_ss.dn).reshape((6, 10))\n",
    "\n",
    "H4 , R4, p4 = pluck.spatial_to_homogeneous(i_X_0s[4])\n",
    "T4 = cs.vertcat(p4, quatT.rotation_matrix_to_quaternion(R4, order='wxyz'))\n",
    "T4_euler = cs.vertcat(p4, pluck.rotation_matrix_to_euler(R4, order='xyz'))\n",
    "dIFF_KinJ4 = cs.jacobian(T4_euler, cs.vertcat(uvms_ss.n))\n",
    "dIFF2_KinJ4 = cs.jacobian(dIFF_KinJ4, cs.vertcat(uvms_ss.n))\n",
    "dot_J4 = cs.mtimes(dIFF2_KinJ4, uvms_ss.dn).reshape((6, 10))\n",
    "\n",
    "\n",
    "fk_eval = cs.Function(\"fkeval\", [uvms_ss.n, base_ss.base_T], [T0, T1, T2, T3, T4])\n",
    "fk_eval_euler = cs.Function(\"fkeval_euler\", [uvms_ss.n, base_ss.base_T], [T0_euler, T1_euler, T2_euler, T3_euler, T4_euler])\n",
    "dIFF_KinJ = cs.Function(\"dIFF_KinJ\", [uvms_ss.n, base_ss.base_T], [dIFF_KinJ0, dIFF_KinJ1, dIFF_KinJ2, dIFF_KinJ3, dIFF_KinJ4])\n",
    "dIFF2_KinJ = cs.Function(\"dIFF2_KinJ\", [uvms_ss.n, base_ss.base_T], [dIFF2_KinJ0, dIFF2_KinJ1, dIFF2_KinJ2, dIFF2_KinJ3, dIFF2_KinJ4])\n",
    "# fk_eval.save(\"fk_eval.casadi\")"
   ]
  },
  {
   "cell_type": "code",
   "execution_count": 4,
   "metadata": {},
   "outputs": [
    {
     "data": {
      "text/plain": [
       "(DM([0.34, 1.00001, 0.366, 1.24714e-20, -6.12323e-17, 1, 0.000203673]),\n",
       " DM([0.36, 1.00002, 0.333, 1, 0.000203673, -6.12448e-17, 6.12199e-17]),\n",
       " DM([0.32, 1.00008, 0.1877, -0.000203673, 1, -1.32679e-06, -2.70233e-10]),\n",
       " DM([0.34, 1.00009, 0.1547, -0.000176386, 0.866025, 0.500001, 0.000101837]),\n",
       " DM([0.34, 1.00013, 0.05495, -0.000176386, 0.866025, 0.500001, 0.000101837]))"
      ]
     },
     "execution_count": 4,
     "metadata": {},
     "output_type": "execute_result"
    }
   ],
   "source": [
    "# forward kinematics wrt to NED origin quaternion\n",
    "T_i = fk_eval([0.2,1,0.5, 0,0,0 , cs.pi, cs.pi, cs.pi, cs.pi],alpha.base_T0)\n",
    "T_i"
   ]
  },
  {
   "cell_type": "code",
   "execution_count": 5,
   "metadata": {},
   "outputs": [],
   "source": [
    "# # c , cpp or matlab code generation for forward dynamics\n",
    "# fk_eval.generate(\"fk_eval_.c\")\n",
    "# os.system(f\"gcc -fPIC -shared fk_eval_.c -o libFK.so\")"
   ]
  },
  {
   "cell_type": "code",
   "execution_count": 6,
   "metadata": {},
   "outputs": [],
   "source": [
    "fk_eval_euler = cs.Function(\"fkeval_euler\", [uvms_ss.n, base_ss.base_T], [T4_euler])\n",
    "# fk_eval_euler.save(\"fk_eval.casadi\")\n",
    "dIFF_KinJ = cs.Function(\"dIFF_KinJ\", [uvms_ss.n, base_ss.base_T], [dIFF_KinJ4])\n",
    "dot_J = cs.Function(\"dot_J\", [uvms_ss.n, uvms_ss.dn, base_ss.base_T], [dot_J4])\n",
    "\n",
    "dIFF_KinJ.save(\"dIFF_KinJ.casadi\")\n",
    "dot_J.save(\"dot_J.casadi\")"
   ]
  },
  {
   "cell_type": "code",
   "execution_count": 10,
   "metadata": {},
   "outputs": [
    {
     "data": {
      "text/plain": [
       "DM([0.34, 1.00013, 0.05495, -3.14119, 0, -1.0472])"
      ]
     },
     "execution_count": 10,
     "metadata": {},
     "output_type": "execute_result"
    }
   ],
   "source": [
    "# forward kinematics wrt to NED origin euler\n",
    "T_i = fk_eval_euler([0.2,1,0.5, 0,0,0 , cs.pi, cs.pi, cs.pi, cs.pi],alpha.base_T0)\n",
    "T_i"
   ]
  },
  {
   "cell_type": "code",
   "execution_count": 11,
   "metadata": {},
   "outputs": [
    {
     "data": {
      "text/plain": [
       "DM(\n",
       "[[1, 1.0729e-16, -1.54003e-33, 2.20635e-17, -0.44505, -0.000132355, -5.30718e-08, -0.27805, 0.13275, 8.04935e-17], \n",
       " [7.95347e-17, 1, 2.03288e-20, 0.44505, -1.13028e-17, 0.14, 7.02993e-14, -8.14693e-06, -8.49919e-06, 1.68403e-16], \n",
       " [-1.53999e-33, 2.03288e-20, 1, 0.000132355, -0.14, -1.27372e-18, 2.09251e-17, 0.02, 0.02, -2.99511e-18], \n",
       " [00, 00, 00, 1, -1.75632e-31, 4.31162e-28, -4.31162e-28, -1.22465e-16, -2.65359e-06, 00], \n",
       " [00, 00, 00, 0, -1, -0.000407346, 3.24971e-22, -1, 1, 00], \n",
       " [00, 00, 00, 0, 0.000407346, -1, 1, 3.24971e-22, 1.14413e-33, -1]])"
      ]
     },
     "execution_count": 11,
     "metadata": {},
     "output_type": "execute_result"
    }
   ],
   "source": [
    "dKJ = dIFF_KinJ([0.2,1,0.5, 0,0,0 , cs.pi, cs.pi, cs.pi, cs.pi],alpha.base_T0)\n",
    "dKJ"
   ]
  },
  {
   "cell_type": "markdown",
   "metadata": {},
   "source": [
    "<h1>Workspace Box</h1>"
   ]
  },
  {
   "cell_type": "code",
   "execution_count": 9,
   "metadata": {},
   "outputs": [],
   "source": [
    "min_x, max_x, min_y, max_y, min_z, max_z, workspace_extreme_points = rig_dyn.workspace(floating_base = True)\n",
    "\n",
    "# Create a CasADi function for computing extremes\n",
    "compute_extremes_func = cs.Function('compute_extremes',\n",
    "                                    [arm_ss.joint_configurations, base_ss.p_n, base_ss.base_T],\n",
    "                                    [min_x, max_x, min_y, max_y, min_z, max_z, workspace_extreme_points])"
   ]
  },
  {
   "cell_type": "code",
   "execution_count": 10,
   "metadata": {},
   "outputs": [],
   "source": [
    "# compute_extremes_func.save('workspace.casadi')"
   ]
  },
  {
   "cell_type": "code",
   "execution_count": 11,
   "metadata": {},
   "outputs": [
    {
     "name": "stdout",
     "output_type": "stream",
     "text": [
      "Task Space Box:\n",
      "{'x_min': -0.28692105492352493, 'x_max': 0.054610904328225296, 'y_min': -0.038530132874644796, 'y_max': 0.20243427434910413, 'z_min': 0.01477899230715364, 'z_max': 0.3100041333006748}\n"
     ]
    }
   ],
   "source": [
    "min_x_, max_x_, min_y_, max_y_, min_z_, max_z_, workspace_extreme_points = compute_extremes_func(alpha.joint_limits_configurations, [0,0,0, 0,0,0], [0,0,0, 0,0,0])\n",
    "\n",
    "# Define the task space box\n",
    "task_space_box = {\n",
    "    'x_min': float(min_x_),\n",
    "    'x_max': float(max_x_),\n",
    "    'y_min': float(min_y_),\n",
    "    'y_max': float(max_y_),\n",
    "    'z_min': float(min_z_),\n",
    "    'z_max': float(max_z_)\n",
    "}\n",
    "\n",
    "print(\"Task Space Box:\")\n",
    "print(task_space_box)"
   ]
  },
  {
   "cell_type": "code",
   "execution_count": 12,
   "metadata": {},
   "outputs": [
    {
     "data": {
      "text/plain": [
       "DM(\n",
       "[[-0.286921, -0.0385301, 0.014779], \n",
       " [-0.286921, -0.0385301, 0.310004], \n",
       " [-0.286921, 0.202434, 0.014779], \n",
       " [-0.286921, 0.202434, 0.310004], \n",
       " [0.0546109, -0.0385301, 0.014779], \n",
       " [0.0546109, -0.0385301, 0.310004], \n",
       " [0.0546109, 0.202434, 0.014779], \n",
       " [0.0546109, 0.202434, 0.310004]])"
      ]
     },
     "execution_count": 12,
     "metadata": {},
     "output_type": "execute_result"
    }
   ],
   "source": [
    "workspace_extreme_points"
   ]
  },
  {
   "cell_type": "code",
   "execution_count": null,
   "metadata": {},
   "outputs": [],
   "source": []
  }
 ],
 "metadata": {
  "kernelspec": {
   "display_name": "Python 3",
   "language": "python",
   "name": "python3"
  },
  "language_info": {
   "codemirror_mode": {
    "name": "ipython",
    "version": 3
   },
   "file_extension": ".py",
   "mimetype": "text/x-python",
   "name": "python",
   "nbconvert_exporter": "python",
   "pygments_lexer": "ipython3",
   "version": "3.9.6"
  }
 },
 "nbformat": 4,
 "nbformat_minor": 2
}
