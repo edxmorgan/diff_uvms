{
 "cells": [
  {
   "cell_type": "code",
   "execution_count": 1,
   "metadata": {},
   "outputs": [
    {
     "name": "stdout",
     "output_type": "stream",
     "text": [
      "jit after {'jit': True, 'jit_options': {'flags': '-Ofast'}, 'compiler': 'shell'}\n",
      "number of joints = 4\n"
     ]
    }
   ],
   "source": [
    "%run base.ipynb"
   ]
  },
  {
   "cell_type": "code",
   "execution_count": 2,
   "metadata": {},
   "outputs": [],
   "source": [
    "i_X_p, i_X_0s = rig_dyn.forward_kinematics(floating_base = True)"
   ]
  },
  {
   "cell_type": "code",
   "execution_count": 3,
   "metadata": {},
   "outputs": [],
   "source": [
    "H0 , R0, p0 = pluck.spatial_to_homogeneous(i_X_0s[0])\n",
    "T0 = cs.vertcat(p0, quatT.rotation_matrix_to_quaternion(R0, order='wxyz'))\n",
    "T0_euler = cs.vertcat(p0, pluck.rotation_matrix_to_euler(R0, order='xyz'))\n",
    "dIFF_KinJ0 = cs.jacobian(T0_euler, cs.vertcat(base_ss.p_n , arm_ss.q))\n",
    "\n",
    "H1 , R1, p1 = pluck.spatial_to_homogeneous(i_X_0s[1])\n",
    "T1 = cs.vertcat(p1, quatT.rotation_matrix_to_quaternion(R1, order='wxyz'))\n",
    "T1_euler = cs.vertcat(p1, pluck.rotation_matrix_to_euler(R1, order='xyz'))\n",
    "dIFF_KinJ1 = cs.jacobian(T1_euler, cs.vertcat(base_ss.p_n , arm_ss.q))\n",
    "\n",
    "H2 , R2, p2 = pluck.spatial_to_homogeneous(i_X_0s[2])\n",
    "T2 = cs.vertcat(p2, quatT.rotation_matrix_to_quaternion(R2, order='wxyz'))\n",
    "T2_euler = cs.vertcat(p2, pluck.rotation_matrix_to_euler(R2, order='xyz'))\n",
    "dIFF_KinJ2 = cs.jacobian(T2_euler, cs.vertcat(base_ss.p_n , arm_ss.q))\n",
    "\n",
    "H3 , R3, p3 = pluck.spatial_to_homogeneous(i_X_0s[3])\n",
    "T3 = cs.vertcat(p3, quatT.rotation_matrix_to_quaternion(R3, order='wxyz'))\n",
    "T3_euler = cs.vertcat(p3, pluck.rotation_matrix_to_euler(R3, order='xyz'))\n",
    "dIFF_KinJ3 = cs.jacobian(T3_euler, cs.vertcat(base_ss.p_n , arm_ss.q))\n",
    "\n",
    "H4 , R4, p4 = pluck.spatial_to_homogeneous(i_X_0s[4])\n",
    "T4 = cs.vertcat(p4, quatT.rotation_matrix_to_quaternion(R4, order='wxyz'))\n",
    "T4_euler = cs.vertcat(p4, pluck.rotation_matrix_to_euler(R4, order='xyz'))\n",
    "dIFF_KinJ4 = cs.jacobian(T4_euler, cs.vertcat(base_ss.p_n , arm_ss.q))\n",
    "\n",
    "fk_eval = cs.Function(\"fkeval\", [arm_ss.q, base_ss.baseT_xyz, base_ss.baseT_rpy, base_ss.p_n], [T0, T1, T2, T3, T4])\n",
    "fk_eval_euler = cs.Function(\"fkeval_euler\", [arm_ss.q, base_ss.baseT_xyz, base_ss.baseT_rpy, base_ss.p_n], [T0_euler, T1_euler, T2_euler, T3_euler, T4_euler])\n",
    "dIFF_KinJ = cs.Function(\"dIFF_KinJ\", [arm_ss.q, base_ss.baseT_xyz, base_ss.baseT_rpy, base_ss.p_n], [dIFF_KinJ0, dIFF_KinJ1, dIFF_KinJ2, dIFF_KinJ3, dIFF_KinJ4])\n",
    "# fk_eval.save(\"fk_eval.casadi\")"
   ]
  },
  {
   "cell_type": "code",
   "execution_count": 4,
   "metadata": {},
   "outputs": [
    {
     "data": {
      "text/plain": [
       "(DM([0.328219, 1.00001, 0.372436, -0.479426, 9.76461e-05, 0.877583, 0.00017874]),\n",
       " DM([0.311257, 1.00002, 0.337776, 0.877583, 0.00017874, 0.479426, -9.76461e-05]),\n",
       " DM([0.167379, 1.00008, 0.292929, -0.000178104, 0.877583, -9.88105e-05, -0.479426]),\n",
       " DM([0.150417, 1.00009, 0.25827, -0.239868, 0.760057, 0.438708, -0.415105]),\n",
       " DM([0.0664799, 1.00013, 0.204375, -0.239868, 0.760057, 0.438708, -0.415105]))"
      ]
     },
     "execution_count": 4,
     "metadata": {},
     "output_type": "execute_result"
    }
   ],
   "source": [
    "# forward kinematics wrt to NED origin quaternion\n",
    "T_i = fk_eval([cs.pi, cs.pi, cs.pi, cs.pi],[0.140, 0.000, -0.120], [3.142, 1.000, 0.000],[0.2,1,0.5, 0,0,0])\n",
    "T_i"
   ]
  },
  {
   "cell_type": "code",
   "execution_count": 5,
   "metadata": {},
   "outputs": [],
   "source": [
    "fk_eval_euler = cs.Function(\"fkeval_euler\", [arm_ss.q, base_ss.baseT_xyz, base_ss.baseT_rpy, base_ss.p_n], [T4_euler])\n",
    "fk_eval.save(\"fk_eval.casadi\")\n",
    "dIFF_KinJ = cs.Function(\"dIFF_KinJ\", [arm_ss.q, base_ss.baseT_xyz, base_ss.baseT_rpy, base_ss.p_n], [dIFF_KinJ4])\n",
    "dIFF_KinJ.save(\"dIFF_KinJ.casadi\")"
   ]
  },
  {
   "cell_type": "code",
   "execution_count": 6,
   "metadata": {},
   "outputs": [
    {
     "data": {
      "text/plain": [
       "DM([0.0664799, 1.00013, 0.204375, -3.14084, -1, -1.04657])"
      ]
     },
     "execution_count": 6,
     "metadata": {},
     "output_type": "execute_result"
    }
   ],
   "source": [
    "# forward kinematics wrt to NED origin euler\n",
    "T_i = fk_eval_euler([cs.pi, cs.pi, cs.pi, cs.pi],[0.140, 0.000, -0.120], [3.142, 1.000, 0.000],[0.2,1,0.5, 0,0,0])\n",
    "T_i"
   ]
  },
  {
   "cell_type": "code",
   "execution_count": 7,
   "metadata": {},
   "outputs": [
    {
     "data": {
      "text/plain": [
       "DM(\n",
       "[[1, 4.16287e-17, 2.1684e-17, -5.55112e-17, -0.295625, -0.000132355, -2.86748e-08, -0.133402, 0.0885545, -1.04083e-16], \n",
       " [4.16321e-17, 1, -4.1631e-17, 0.295625, 0, -0.13352, 7.02459e-14, -8.14693e-06, -8.49919e-06, 5.55112e-17], \n",
       " [4.25007e-17, -4.1631e-17, 1, 0.000132355, 0.13352, -2.84146e-17, 4.46584e-08, 0.244777, -0.100899, 8.32667e-17], \n",
       " [00, 00, 00, 1, 0.00117417, -1.55741, -3.82368e-25, 0.00117417, -0.00117908, 00], \n",
       " [00, 00, 00, 0, -1, -0.000753923, 3.24971e-22, -1, 1, 00], \n",
       " [00, 00, 00, 0, 0.00139537, -1.85081, 1, 0.000988026, -0.000992159, -1]])"
      ]
     },
     "execution_count": 7,
     "metadata": {},
     "output_type": "execute_result"
    }
   ],
   "source": [
    "dKJ = dIFF_KinJ([cs.pi, cs.pi, cs.pi, cs.pi],[0.140, 0.000, -0.120], [3.142, 1.000, 0.000],[0.2,1,0.5, 0,0,0])\n",
    "dKJ"
   ]
  },
  {
   "cell_type": "code",
   "execution_count": 7,
   "metadata": {},
   "outputs": [],
   "source": [
    "# # c , cpp or matlab code generation for forward dynamics\n",
    "# fk_eval.generate(\"fk_eval_.c\")\n",
    "# os.system(f\"gcc -fPIC -shared fk_eval_.c -o libFK.so\")"
   ]
  }
 ],
 "metadata": {
  "kernelspec": {
   "display_name": "Python 3",
   "language": "python",
   "name": "python3"
  },
  "language_info": {
   "codemirror_mode": {
    "name": "ipython",
    "version": 3
   },
   "file_extension": ".py",
   "mimetype": "text/x-python",
   "name": "python",
   "nbconvert_exporter": "python",
   "pygments_lexer": "ipython3",
   "version": "3.9.6"
  }
 },
 "nbformat": 4,
 "nbformat_minor": 2
}
