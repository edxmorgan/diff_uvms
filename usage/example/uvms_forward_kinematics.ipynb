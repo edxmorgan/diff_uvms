{
 "cells": [
  {
   "cell_type": "code",
   "execution_count": 1,
   "metadata": {},
   "outputs": [
    {
     "name": "stdout",
     "output_type": "stream",
     "text": [
      "jit after {'jit': True, 'jit_options': {'flags': '-Ofast'}, 'compiler': 'shell'}\n",
      "number of joints = 4\n"
     ]
    }
   ],
   "source": [
    "%run base.ipynb"
   ]
  },
  {
   "cell_type": "code",
   "execution_count": 2,
   "metadata": {},
   "outputs": [],
   "source": [
    "i_X_p, i_X_0s = rig_dyn.forward_kinematics(floating_base = True)"
   ]
  },
  {
   "cell_type": "code",
   "execution_count": 3,
   "metadata": {},
   "outputs": [],
   "source": [
    "H0 , R0, p0 = pluck.spatial_to_homogeneous(i_X_0s[0])\n",
    "T0 = cs.vertcat(p0, quatT.rotation_matrix_to_quaternion(R0, order='wxyz'))\n",
    "T0_euler = cs.vertcat(p0, pluck.rotation_matrix_to_euler(R0, order='xyz'))\n",
    "dIFF_KinJ0 = cs.jacobian(T0_euler, cs.vertcat(base_ss.p_n , arm_ss.q))\n",
    "\n",
    "H1 , R1, p1 = pluck.spatial_to_homogeneous(i_X_0s[1])\n",
    "T1 = cs.vertcat(p1, quatT.rotation_matrix_to_quaternion(R1, order='wxyz'))\n",
    "T1_euler = cs.vertcat(p1, pluck.rotation_matrix_to_euler(R1, order='xyz'))\n",
    "dIFF_KinJ1 = cs.jacobian(T1_euler, cs.vertcat(base_ss.p_n , arm_ss.q))\n",
    "\n",
    "H2 , R2, p2 = pluck.spatial_to_homogeneous(i_X_0s[2])\n",
    "T2 = cs.vertcat(p2, quatT.rotation_matrix_to_quaternion(R2, order='wxyz'))\n",
    "T2_euler = cs.vertcat(p2, pluck.rotation_matrix_to_euler(R2, order='xyz'))\n",
    "dIFF_KinJ2 = cs.jacobian(T2_euler, cs.vertcat(base_ss.p_n , arm_ss.q))\n",
    "\n",
    "H3 , R3, p3 = pluck.spatial_to_homogeneous(i_X_0s[3])\n",
    "T3 = cs.vertcat(p3, quatT.rotation_matrix_to_quaternion(R3, order='wxyz'))\n",
    "T3_euler = cs.vertcat(p3, pluck.rotation_matrix_to_euler(R3, order='xyz'))\n",
    "dIFF_KinJ3 = cs.jacobian(T3_euler, cs.vertcat(base_ss.p_n , arm_ss.q))\n",
    "\n",
    "H4 , R4, p4 = pluck.spatial_to_homogeneous(i_X_0s[4])\n",
    "T4 = cs.vertcat(p4, quatT.rotation_matrix_to_quaternion(R4, order='wxyz'))\n",
    "T4_euler = cs.vertcat(p4, pluck.rotation_matrix_to_euler(R4, order='xyz'))\n",
    "dIFF_KinJ4 = cs.jacobian(T4_euler, cs.vertcat(base_ss.p_n , arm_ss.q))\n",
    "\n",
    "fk_eval = cs.Function(\"fkeval\", [arm_ss.q, base_ss.baseT_xyz, base_ss.baseT_rpy, base_ss.p_n], [T0, T1, T2, T3, T4])\n",
    "fk_eval_euler = cs.Function(\"fkeval_euler\", [arm_ss.q, base_ss.baseT_xyz, base_ss.baseT_rpy, base_ss.p_n], [T0_euler, T1_euler, T2_euler, T3_euler, T4_euler])\n",
    "dIFF_KinJ = cs.Function(\"dIFF_KinJ\", [arm_ss.q, base_ss.baseT_xyz, base_ss.baseT_rpy, base_ss.p_n], [dIFF_KinJ0, dIFF_KinJ1, dIFF_KinJ2, dIFF_KinJ3, dIFF_KinJ4])\n",
    "# fk_eval.save(\"fk_eval.casadi\")"
   ]
  },
  {
   "cell_type": "code",
   "execution_count": 4,
   "metadata": {},
   "outputs": [
    {
     "data": {
      "text/plain": [
       "(DM([0.34, 1.00001, 0.366, 1.24714e-20, -6.12323e-17, 1, 0.000203673]),\n",
       " DM([0.36, 1.00002, 0.333, 1, 0.000203673, -6.12448e-17, 6.12199e-17]),\n",
       " DM([0.32, 1.00008, 0.1877, -0.000203673, 1, -1.32679e-06, -2.70233e-10]),\n",
       " DM([0.34, 1.00009, 0.1547, -0.000176386, 0.866025, 0.500001, 0.000101837]),\n",
       " DM([0.34, 1.00013, 0.05495, -0.000176386, 0.866025, 0.500001, 0.000101837]))"
      ]
     },
     "execution_count": 4,
     "metadata": {},
     "output_type": "execute_result"
    }
   ],
   "source": [
    "# forward kinematics wrt to NED origin quaternion\n",
    "T_i = fk_eval([cs.pi, cs.pi, cs.pi, cs.pi],alpha.base_T0[3:], alpha.base_T0[:3],[0.2,1,0.5, 0,0,0])\n",
    "T_i"
   ]
  },
  {
   "cell_type": "code",
   "execution_count": 5,
   "metadata": {},
   "outputs": [],
   "source": [
    "fk_eval_euler = cs.Function(\"fkeval_euler\", [arm_ss.q, base_ss.baseT_xyz, base_ss.baseT_rpy, base_ss.p_n], [T4_euler])\n",
    "fk_eval_euler.save(\"fk_eval.casadi\")\n",
    "dIFF_KinJ = cs.Function(\"dIFF_KinJ\", [arm_ss.q, base_ss.baseT_xyz, base_ss.baseT_rpy, base_ss.p_n], [dIFF_KinJ4])\n",
    "dIFF_KinJ.save(\"dIFF_KinJ.casadi\")"
   ]
  },
  {
   "cell_type": "code",
   "execution_count": 6,
   "metadata": {},
   "outputs": [
    {
     "data": {
      "text/plain": [
       "DM([0.34, 1.00013, 0.05495, -3.14119, 0, -1.0472])"
      ]
     },
     "execution_count": 6,
     "metadata": {},
     "output_type": "execute_result"
    }
   ],
   "source": [
    "# forward kinematics wrt to NED origin euler\n",
    "T_i = fk_eval_euler([cs.pi, cs.pi, cs.pi, cs.pi],alpha.base_T0[3:], alpha.base_T0[:3],[0.2,1,0.5, 0,0,0])\n",
    "T_i"
   ]
  },
  {
   "cell_type": "code",
   "execution_count": 7,
   "metadata": {},
   "outputs": [
    {
     "data": {
      "text/plain": [
       "DM(\n",
       "[[1, 1.0729e-16, -1.54003e-33, 2.20635e-17, -0.44505, -0.000132355, -5.30718e-08, -0.27805, 0.13275, 8.04935e-17], \n",
       " [7.95347e-17, 1, 2.03288e-20, 0.44505, -1.13028e-17, 0.14, 7.02993e-14, -8.14693e-06, -8.49919e-06, 1.68403e-16], \n",
       " [-1.53999e-33, 2.03288e-20, 1, 0.000132355, -0.14, -1.27372e-18, 2.09251e-17, 0.02, 0.02, -2.99511e-18], \n",
       " [00, 00, 00, 1, -1.75632e-31, 4.31162e-28, -4.31162e-28, -1.22465e-16, -2.65359e-06, 00], \n",
       " [00, 00, 00, 0, -1, -0.000407346, 3.24971e-22, -1, 1, 00], \n",
       " [00, 00, 00, 0, 0.000407346, -1, 1, 3.24971e-22, 1.14413e-33, -1]])"
      ]
     },
     "execution_count": 7,
     "metadata": {},
     "output_type": "execute_result"
    }
   ],
   "source": [
    "dKJ = dIFF_KinJ([cs.pi, cs.pi, cs.pi, cs.pi],alpha.base_T0[3:], alpha.base_T0[:3],[0.2,1,0.5, 0,0,0])\n",
    "dKJ"
   ]
  },
  {
   "cell_type": "code",
   "execution_count": 7,
   "metadata": {},
   "outputs": [],
   "source": [
    "# # c , cpp or matlab code generation for forward dynamics\n",
    "# fk_eval.generate(\"fk_eval_.c\")\n",
    "# os.system(f\"gcc -fPIC -shared fk_eval_.c -o libFK.so\")"
   ]
  }
 ],
 "metadata": {
  "kernelspec": {
   "display_name": "Python 3",
   "language": "python",
   "name": "python3"
  },
  "language_info": {
   "codemirror_mode": {
    "name": "ipython",
    "version": 3
   },
   "file_extension": ".py",
   "mimetype": "text/x-python",
   "name": "python",
   "nbconvert_exporter": "python",
   "pygments_lexer": "ipython3",
   "version": "3.9.6"
  }
 },
 "nbformat": 4,
 "nbformat_minor": 2
}
