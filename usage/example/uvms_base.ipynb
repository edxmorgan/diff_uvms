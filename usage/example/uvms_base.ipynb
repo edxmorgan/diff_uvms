{
 "cells": [
  {
   "cell_type": "code",
   "execution_count": 1,
   "metadata": {},
   "outputs": [
    {
     "name": "stdout",
     "output_type": "stream",
     "text": [
      "jit after {'jit': True, 'jit_options': {'flags': '-Ofast'}, 'compiler': 'shell'}\n",
      "number of joints = 4\n"
     ]
    }
   ],
   "source": [
    "%run base.ipynb"
   ]
  },
  {
   "cell_type": "code",
   "execution_count": 2,
   "metadata": {},
   "outputs": [
    {
     "data": {
      "text/plain": [
       "0"
      ]
     },
     "execution_count": 2,
     "metadata": {},
     "output_type": "execute_result"
    }
   ],
   "source": [
    "# kinematics and dynamics code of these casadi objects can be found in https://github.com/edxmorgan/diff_uv project\n",
    "# these can be replaced with your preferred uv dynamics\n",
    "fb_id_func = cs.Function.load(\"float_base.casadi\")\n",
    "J_uv_func = cs.Function.load(\"J_uv.casadi\")\n",
    "uv_gn_func = cs.Function.load(\"gn.casadi\") #z, eul, W, B, r_g, r_b\n",
    "\n",
    "# ned jacobian for uv kinematics\n",
    "J_uv = J_uv_func(base_ss.eul)\n",
    "\n",
    "z_SX = base_ss.p_n[2]\n",
    "\n",
    "# base bias force expressions\n",
    "zero_acc = [0,0,0,0,0,0]\n",
    "b_F = fb_id_func(z_SX, base_ss.eul, base_ss.v_base, zero_acc, base_ss.sim_p)\n",
    "\n",
    "# base inverse dynamics expressions\n",
    "tau_F = fb_id_func(z_SX, base_ss.eul, base_ss.v_base, base_ss.a_base, base_ss.sim_p)\n",
    "\n",
    "\n",
    "use_coupled = True\n",
    "\n",
    "# ned jacobian for uvms kinematics\n",
    "J_uvms = cs.SX.eye(10)\n",
    "J_uvms[:6,:6] = J_uv\n",
    "\n",
    "J_uvms_func = cs.Function('J_uvms', [base_ss.eul], [J_uvms])\n",
    "# J_uvms_func.save('J_uvms.casadi')\n",
    "\n",
    "# c , cpp or matlab code generation for pid_control\n",
    "# J_uvms_func.generate(\"J_uvms_func.c\")\n",
    "# os.system(f\"gcc -fPIC -shared J_uvms_func.c -o libJ_uvms.so\")"
   ]
  },
  {
   "cell_type": "code",
   "execution_count": null,
   "metadata": {},
   "outputs": [],
   "source": []
  }
 ],
 "metadata": {
  "kernelspec": {
   "display_name": "Python 3",
   "language": "python",
   "name": "python3"
  },
  "language_info": {
   "codemirror_mode": {
    "name": "ipython",
    "version": 3
   },
   "file_extension": ".py",
   "mimetype": "text/x-python",
   "name": "python",
   "nbconvert_exporter": "python",
   "pygments_lexer": "ipython3",
   "version": "3.10.12"
  }
 },
 "nbformat": 4,
 "nbformat_minor": 2
}
