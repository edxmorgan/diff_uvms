{
 "cells": [
  {
   "cell_type": "code",
   "execution_count": null,
   "metadata": {},
   "outputs": [],
   "source": [
    "import sys\n",
    "import os\n",
    "import matplotlib.pyplot as plt\n",
    "\n",
    "# Assuming the package is one directory above the current working directory\n",
    "parent_dir = os.path.abspath('../..')\n",
    "sys.path.append(parent_dir)\n",
    "\n",
    "import numpy as np\n",
    "import casadi as cs\n",
    "\n",
    "from UVarm import robotdynamics, pluck, urdfp\n",
    "import spatial_casadi as sc"
   ]
  },
  {
   "cell_type": "code",
   "execution_count": 2,
   "metadata": {},
   "outputs": [
    {
     "name": "stdout",
     "output_type": "stream",
     "text": [
      "jit after {'jit': True, 'jit_options': {'flags': '-Ofast'}, 'compiler': 'shell'}\n",
      "number of joints = 4\n"
     ]
    }
   ],
   "source": [
    "root = \"base_link\"\n",
    "tip = \"alpha_standard_jaws_base_link\"\n",
    "\n",
    "path_to_urdf = f\"{parent_dir}/resources/urdf/alpha_5_robot.urdf\"\n",
    "rig_dyn = robotdynamics(path_to_urdf, root, tip)\n",
    "\n",
    "ss = rig_dyn.ssyms"
   ]
  },
  {
   "cell_type": "code",
   "execution_count": null,
   "metadata": {},
   "outputs": [],
   "source": [
    "# using plucker basis :=[w, v]\n",
    "\n",
    "# self.u_min = np.array([-2.83664, -0.629139, -0.518764, -0.54])\n",
    "# self.u_max = np.array([2.83664, 0.629139, 0.518764, 0.54])\n",
    "joint_min = np.array([0.0, 1.5, 0.05, 0.0])\n",
    "joint_max = np.array([5.7, 3.4, 3.4, 5.7]) \n",
    "\n",
    "rho = 1 #kg/L\n",
    "\n",
    "mc = cs.SX.sym('mc', 7)\n",
    "\n",
    "mc_v = [7e-6, 0.032, 1716e-6, 0.017, 0.201, 2443e-6, 0.226]\n",
    "\n",
    "M_A_0 = cs.vertcat(mc[0]*rho, mc[0]*rho, 0, mc[1]*rho, mc[1]*rho, mc[3]*rho)\n",
    "M_A_1 = cs.vertcat(0, mc[2]*rho, mc[2]*rho, mc[3]*rho, mc[4]*rho, mc[4]*rho)\n",
    "M_A_2 = cs.vertcat(mc[0]*rho, 0, mc[0]*rho, mc[1]*rho, mc[3]*rho, mc[1]*rho)\n",
    "M_A_3 = cs.vertcat(mc[5]*rho, mc[5]*rho, 0, mc[6]*rho, mc[6]*rho, mc[3]*rho)\n",
    "MA__cof = cs.vertcat(M_A_0, M_A_1, M_A_2, M_A_3)"
   ]
  },
  {
   "cell_type": "code",
   "execution_count": 4,
   "metadata": {},
   "outputs": [],
   "source": [
    "D_u_0 = cs.DM([0, 0, 0, 0, 0, 0])\n",
    "D_u_1 = cs.DM([0, 0, 0, 0, 0, 0])\n",
    "D_u_2 = cs.DM([0, 0, 0, 0, 0, 0])\n",
    "D_u_3 = cs.DM([0, 0, 0, 0, 0, 0])\n",
    "Du__cof = cs.vertcat(D_u_0, D_u_1, D_u_2, D_u_3)"
   ]
  },
  {
   "cell_type": "code",
   "execution_count": 5,
   "metadata": {},
   "outputs": [],
   "source": [
    "du = cs.SX.sym('du', 4)\n",
    "\n",
    "du_v = [0.26, 0.3, 1.6, 1.8]\n",
    "\n",
    "D_uu_0 = cs.vertcat(0, 0, 0, du[0]*rho, du[0]*rho, du[1]*rho)\n",
    "D_uu_1 = cs.vertcat(0, 0, 0, du[1]*rho, du[2]*rho, du[2]*rho)\n",
    "D_uu_2 = cs.vertcat(0, 0, 0, du[0]*rho, du[1]*rho, du[0]*rho)\n",
    "D_uu_3 = cs.vertcat(0, 0, 0, du[3]*rho, du[3]*rho, du[1]*rho)\n",
    "Duu__cof = cs.vertcat(D_uu_0, D_uu_1, D_uu_2, D_uu_3)"
   ]
  },
  {
   "cell_type": "code",
   "execution_count": 6,
   "metadata": {},
   "outputs": [],
   "source": [
    "COB_m0 = cs.DM([-1e-03, -2e-03, -32e-03])\n",
    "COB_m1 = cs.DM([73e-3, 0, -2e-3])\n",
    "COB_m2 = cs.DM([3e-3, 1e-3, -17e-3])\n",
    "COB_m3 = cs.DM([0e-3, 3e-3, -98e-3])\n",
    "COB__m = cs.vertcat(COB_m0, COB_m1, COB_m2, COB_m3)\n",
    "\n",
    "volume__ = cs.vertcat(1.8e-5, 0.000203, 2.5e-5, 0.000155) #m3"
   ]
  },
  {
   "cell_type": "code",
   "execution_count": 7,
   "metadata": {},
   "outputs": [
    {
     "data": {
      "text/plain": [
       "DM([7e-06, 7e-06, 0, 0.032, 0.032, 0.017, 0, 0.001716, 0.001716, 0.017, 0.201, 0.201, 7e-06, 0, 7e-06, 0.032, 0.017, 0.032, 0.002443, 0.002443, 0, 0.226, 0.226, 0.017, 0, 0, 0, 0, 0, 0, 0, 0, 0, 0, 0, 0, 0, 0, 0, 0, 0, 0, 0, 0, 0, 0, 0, 0, 0, 0, 0, 0.26, 0.26, 0.3, 0, 0, 0, 0.3, 1.6, 1.6, 0, 0, 0, 0.26, 0.3, 0.26, 0, 0, 0, 1.8, 1.8, 0.3, 1.8e-05, 0.000203, 2.5e-05, 0.000155, -0.001, -0.002, -0.032, 0.073, 0, -0.002, 0.003, 0.001, -0.017, 0, 0.003, -0.098, 1])"
      ]
     },
     "execution_count": 7,
     "metadata": {},
     "output_type": "execute_result"
    }
   ],
   "source": [
    "p0_Hyd__sx = cs.vertcat(MA__cof, Du__cof, Duu__cof, volume__ ,COB__m, rho)\n",
    "p0_Hyd__fun = cs.Function('p0Hydsx', [mc, du],[p0_Hyd__sx])\n",
    "arm_Hyd__p_est = p0_Hyd__fun(mc_v, du_v)\n",
    "arm_Hyd__p_est"
   ]
  },
  {
   "cell_type": "code",
   "execution_count": null,
   "metadata": {},
   "outputs": [],
   "source": [
    "# reducing model parameters by assuming non rotating axis are inertialess or inactivity\n",
    "Gear_p = cs.vertcat(2253.54, 2253.54, 2253.54, 340.4)\n",
    "rigid_p0 = cs.vertcat(0.0, 0.0, 0.0, 1e-05, 0.0, 0.0,\n",
    "                           0.0, 0.0, 0.0, 0.0, 1e-05, 0.0,\n",
    "                           0.0, 0.0, 1e-05, 0.0,\n",
    "                           1e-05, \n",
    "                           0.0, 0.0, 0.0, 0.0, \n",
    "                           3.0, 2.3, 2.2, 0.3, \n",
    "                           0.0, 0.0, 0.0, 0.0,\n",
    "                           3.0, 1.8, 1.0, 1.15)\n",
    "\n",
    "rigid_body_p_est = cs.vertcat(Gear_p, rigid_p0)\n",
    "\n",
    "trivial_Ir0 = [0, 0, 0 , 0, 0, 0, 0]\n",
    "\n",
    "v_c0 = [0, 0, 0 , 0, 0, 0]"
   ]
  }
 ],
 "metadata": {
  "kernelspec": {
   "display_name": "Python 3",
   "language": "python",
   "name": "python3"
  },
  "language_info": {
   "codemirror_mode": {
    "name": "ipython",
    "version": 3
   },
   "file_extension": ".py",
   "mimetype": "text/x-python",
   "name": "python",
   "nbconvert_exporter": "python",
   "pygments_lexer": "ipython3",
   "version": "3.10.12"
  }
 },
 "nbformat": 4,
 "nbformat_minor": 2
}
