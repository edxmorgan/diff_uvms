{
 "cells": [
  {
   "cell_type": "code",
   "execution_count": null,
   "metadata": {},
   "outputs": [],
   "source": [
    "import sys\n",
    "import os\n",
    "import matplotlib.pyplot as plt\n",
    "from mpl_toolkits.mplot3d import Axes3D\n",
    "\n",
    "# Assuming the package is one directory above the current working directory\n",
    "parent_dir = os.path.abspath('../..')\n",
    "sys.path.append(parent_dir)\n",
    "\n",
    "from alpha_reach import Params as alpha # blue_rov.py in main folder. \n",
    "\n",
    "import numpy as np\n",
    "import casadi as cs\n",
    "import copy\n",
    "from diffUVMS import robotdynamics, pluck, urdfp, quatT, control"
   ]
  },
  {
   "cell_type": "code",
   "execution_count": 2,
   "metadata": {},
   "outputs": [
    {
     "name": "stdout",
     "output_type": "stream",
     "text": [
      "jit after {'jit': True, 'jit_options': {'flags': '-Ofast'}, 'compiler': 'shell'}\n",
      "number of joints = 4\n"
     ]
    }
   ],
   "source": [
    "path_to_urdf = f\"{parent_dir}{alpha.relative_urdf_path}\"\n",
    "rig_dyn = robotdynamics(path_to_urdf, alpha.root, alpha.tip)\n",
    "\n",
    "arm_ss = rig_dyn.arm_ssyms\n",
    "\n",
    "J_uv_func = cs.Function.load(\"J_uv.casadi\")\n",
    "\n",
    "J_uv = J_uv_func(arm_ss.eul)"
   ]
  },
  {
   "cell_type": "code",
   "execution_count": null,
   "metadata": {},
   "outputs": [],
   "source": []
  }
 ],
 "metadata": {
  "kernelspec": {
   "display_name": "Python 3",
   "language": "python",
   "name": "python3"
  },
  "language_info": {
   "codemirror_mode": {
    "name": "ipython",
    "version": 3
   },
   "file_extension": ".py",
   "mimetype": "text/x-python",
   "name": "python",
   "nbconvert_exporter": "python",
   "pygments_lexer": "ipython3",
   "version": "3.9.6"
  }
 },
 "nbformat": 4,
 "nbformat_minor": 2
}
