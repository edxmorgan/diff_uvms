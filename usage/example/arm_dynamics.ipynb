{
 "cells": [
  {
   "cell_type": "code",
   "execution_count": 1,
   "metadata": {},
   "outputs": [
    {
     "name": "stdout",
     "output_type": "stream",
     "text": [
      "jit after {'jit': True, 'jit_options': {'flags': '-Ofast'}, 'compiler': 'shell'}\n",
      "number of joints = 4\n"
     ]
    }
   ],
   "source": [
    "%run base.ipynb"
   ]
  },
  {
   "cell_type": "code",
   "execution_count": 2,
   "metadata": {},
   "outputs": [
    {
     "name": "stdout",
     "output_type": "stream",
     "text": [
      "no floating_base found\n",
      "no floating_base found\n",
      "no floating_base found\n"
     ]
    }
   ],
   "source": [
    "M = rig_dyn.get_inertia_matrix(gravity=9.81, floating_base_id=None, floating_base_bias_f=None, coupled=False)\n",
    "C = rig_dyn.get_bias_force(gravity=9.81, floating_base_bias_f=None, coupled=False)"
   ]
  },
  {
   "cell_type": "code",
   "execution_count": 3,
   "metadata": {},
   "outputs": [],
   "source": [
    "M_eval = cs.Function(\n",
    "    'M_eval', [ss.q, ss.q_dot, ss.sim_p], [M])\n",
    "C_eval = cs.Function(\n",
    "    'C_eval', [ss.q, ss.q_dot, ss.sim_p], [C])\n",
    "M_eval.save('ARM_M.casadi')\n",
    "C_eval.save('ARM_C.casadi')"
   ]
  },
  {
   "cell_type": "code",
   "execution_count": 4,
   "metadata": {},
   "outputs": [
    {
     "name": "stdout",
     "output_type": "stream",
     "text": [
      "no floating_base found\n"
     ]
    }
   ],
   "source": [
    "tau, _, i_X_p_, i_X_0s_, Si_ = rig_dyn.get_inverse_dynamics_rnea(gravity=9.81, floating_base_id=None, coupled=False)\n",
    "\n",
    "tau_M = M@ss.q_ddot + C"
   ]
  },
  {
   "cell_type": "code",
   "execution_count": 5,
   "metadata": {},
   "outputs": [],
   "source": [
    "# verifications\n",
    "M_tau_eval = cs.Function(\n",
    "    'tau_M', [ss.q, ss.q_dot, ss.q_ddot, ss.sim_p], [tau_M])\n",
    "tau_base_eval = cs.Function(\n",
    "    'ID_', [ss.q, ss.q_dot, ss.q_ddot, ss.sim_p], [tau])"
   ]
  },
  {
   "cell_type": "code",
   "execution_count": 6,
   "metadata": {},
   "outputs": [
    {
     "name": "stdout",
     "output_type": "stream",
     "text": [
      "[3.31188, 3.45983, 2.63969, 60.0617]\n",
      "[3.31188, 3.45983, 2.63969, 60.0617]\n"
     ]
    }
   ],
   "source": [
    "qq, qqd, qqdd = [0.1, 0.2, 0.01, 0.2], [1.1, 1.5, 1.2, 200.2], [0.51, 0.52, 0.01, 0.51]\n",
    "\n",
    "u_ht = M_tau_eval(qq, qqd, qqdd, alpha.sim_p)\n",
    "u_est = tau_base_eval(qq, qqd, qqdd, alpha.sim_p)\n",
    "\n",
    "print(u_ht)\n",
    "print(u_est)\n",
    "# [3.31188, 3.45983, 2.63969, 60.0617]\n",
    "# [3.31188, 3.45983, 2.63969, 60.0617]"
   ]
  },
  {
   "cell_type": "code",
   "execution_count": null,
   "metadata": {},
   "outputs": [],
   "source": []
  }
 ],
 "metadata": {
  "kernelspec": {
   "display_name": "Python 3",
   "language": "python",
   "name": "python3"
  },
  "language_info": {
   "codemirror_mode": {
    "name": "ipython",
    "version": 3
   },
   "file_extension": ".py",
   "mimetype": "text/x-python",
   "name": "python",
   "nbconvert_exporter": "python",
   "pygments_lexer": "ipython3",
   "version": "3.9.6"
  }
 },
 "nbformat": 4,
 "nbformat_minor": 2
}
