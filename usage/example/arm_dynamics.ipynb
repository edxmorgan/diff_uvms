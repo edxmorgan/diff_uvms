{
 "cells": [
  {
   "cell_type": "code",
   "execution_count": 1,
   "metadata": {},
   "outputs": [
    {
     "name": "stdout",
     "output_type": "stream",
     "text": [
      "jit after {'jit': True, 'jit_options': {'flags': '-Ofast'}, 'compiler': 'shell'}\n",
      "number of joints = 4\n"
     ]
    }
   ],
   "source": [
    "%run alpha.ipynb"
   ]
  },
  {
   "cell_type": "code",
   "execution_count": 2,
   "metadata": {},
   "outputs": [
    {
     "name": "stdout",
     "output_type": "stream",
     "text": [
      "no floating_base found\n",
      "no floating_base found\n",
      "no floating_base found\n",
      "no floating_base found\n"
     ]
    }
   ],
   "source": [
    "H = rig_dyn.get_inertia_matrix()\n",
    "C = rig_dyn.get_bias_force()\n",
    "\n",
    "tau, _, i_X_p_, i_X_0s_, Si_ = rig_dyn.get_inverse_dynamics_rnea(gravity=9.81)\n",
    "\n",
    "tau_H = H@ss.q_ddot + C"
   ]
  },
  {
   "cell_type": "code",
   "execution_count": 3,
   "metadata": {},
   "outputs": [],
   "source": [
    "# verifications\n",
    "H_tau_eval = cs.Function(\n",
    "    'tau_H', [ss.q, ss.q_dot, ss.q_ddot, ss.rigid_body_p, ss.hydrodynamic_p, ss.base_T], [tau_H])\n",
    "tau_base_eval = cs.Function(\n",
    "    'ID_', [ss.q, ss.q_dot, ss.q_ddot, ss.rigid_body_p, ss.hydrodynamic_p, ss.base_T], [tau])"
   ]
  },
  {
   "cell_type": "code",
   "execution_count": 4,
   "metadata": {},
   "outputs": [
    {
     "name": "stdout",
     "output_type": "stream",
     "text": [
      "[115.143, 117.481, 3.33301, 177.52]\n",
      "[115.143, 117.481, 3.33301, 177.52]\n"
     ]
    }
   ],
   "source": [
    "qq, qqd, qqdd = [0.1, 0.2, 0.01, 0.2], [1.1, 1.5, 1.2, 200.2], [0.51, 0.52, 0.01, 0.51]\n",
    "base_T0 = [0, 0, 0 , 0, 0, 0]\n",
    "ppp0ex = [2253.54, 2253.54, 2253.54, 340.4,\n",
    "          0, 0, 0, 0.1, 0, 0,\n",
    "          0, 0, 0, 0, 0.1, 0,\n",
    "          0, 0, 0.1, 0.0,\n",
    "          0.1,\n",
    "          0.0, 0.0, 0.0, 0.0,\n",
    "          0.2, 0.2, 0.9, 0.8,\n",
    "          0.0, 0.0, 0.0, 0.0,\n",
    "          0.2, 0.2, 0.9, 0.8\n",
    "          ]\n",
    "\n",
    "ht = H_tau_eval(qq, qqd, qqdd, ppp0ex, arm_Hyd__p_est, base_T0)\n",
    "\n",
    "t = tau_base_eval(qq, qqd, qqdd, ppp0ex, arm_Hyd__p_est, base_T0)\n",
    "\n",
    "print(ht)\n",
    "print(t)\n",
    "# [115.143, 117.481, 3.3328, 177.52]\n",
    "# [115.143, 117.481, 3.3328, 177.52]"
   ]
  },
  {
   "cell_type": "code",
   "execution_count": 5,
   "metadata": {},
   "outputs": [
    {
     "name": "stdout",
     "output_type": "stream",
     "text": [
      "[3.31188, 3.45983, 2.63969, 60.0617]\n",
      "[3.31188, 3.45983, 2.63969, 60.0617]\n"
     ]
    }
   ],
   "source": [
    "u_ht = H_tau_eval(qq, qqd, qqdd, rigid_body_p_est, arm_Hyd__p_est, base_T0)\n",
    "u_est = tau_base_eval(qq, qqd, qqdd, rigid_body_p_est, arm_Hyd__p_est, base_T0)\n",
    "\n",
    "print(u_ht)\n",
    "print(u_est)"
   ]
  },
  {
   "cell_type": "code",
   "execution_count": null,
   "metadata": {},
   "outputs": [],
   "source": []
  },
  {
   "cell_type": "code",
   "execution_count": null,
   "metadata": {},
   "outputs": [],
   "source": []
  }
 ],
 "metadata": {
  "kernelspec": {
   "display_name": "Python 3",
   "language": "python",
   "name": "python3"
  },
  "language_info": {
   "codemirror_mode": {
    "name": "ipython",
    "version": 3
   },
   "file_extension": ".py",
   "mimetype": "text/x-python",
   "name": "python",
   "nbconvert_exporter": "python",
   "pygments_lexer": "ipython3",
   "version": "3.10.12"
  }
 },
 "nbformat": 4,
 "nbformat_minor": 2
}
