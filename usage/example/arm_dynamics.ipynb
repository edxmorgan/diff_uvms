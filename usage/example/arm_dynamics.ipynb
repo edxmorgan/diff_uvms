{
 "cells": [
  {
   "cell_type": "code",
   "execution_count": 1,
   "metadata": {},
   "outputs": [
    {
     "name": "stdout",
     "output_type": "stream",
     "text": [
      "jit after {'jit': True, 'jit_options': {'flags': '-Ofast'}, 'compiler': 'shell'}\n",
      "number of joints = 4\n"
     ]
    }
   ],
   "source": [
    "%run base.ipynb"
   ]
  },
  {
   "cell_type": "code",
   "execution_count": 2,
   "metadata": {},
   "outputs": [],
   "source": [
    "M = rig_dyn.get_inertia_matrix()\n",
    "C = rig_dyn.get_bias_force()\n",
    "\n",
    "M_eval = cs.Function(\n",
    "    'M_eval', [arm_ss.q, arm_ss.q_dot, arm_ss.sim_p, arm_ss.gravity], [M])\n",
    "\n",
    "C_eval = cs.Function(\n",
    "    'C_eval', [arm_ss.q, arm_ss.q_dot, arm_ss.sim_p, arm_ss.gravity], [C])\n",
    "\n",
    "M_eval.save('M.casadi')\n",
    "C_eval.save('C.casadi')"
   ]
  },
  {
   "cell_type": "code",
   "execution_count": 4,
   "metadata": {},
   "outputs": [],
   "source": [
    "tau_rec = rig_dyn.get_inverse_dynamics_rnea() #recursive\n",
    "\n",
    "tau_cf = M@arm_ss.q_ddot + C #closed form\n"
   ]
  },
  {
   "cell_type": "code",
   "execution_count": 7,
   "metadata": {},
   "outputs": [],
   "source": [
    "# verifications\n",
    "tau_rec_eval = cs.Function(\n",
    "    'tau_rec', [arm_ss.q, arm_ss.q_dot, arm_ss.q_ddot, arm_ss.sim_p, arm_ss.gravity], [tau_rec])\n",
    "\n",
    "tau_cf_eval = cs.Function(\n",
    "    'tau_cf', [arm_ss.q, arm_ss.q_dot, arm_ss.q_ddot, arm_ss.sim_p, arm_ss.gravity], [tau_cf])"
   ]
  },
  {
   "cell_type": "code",
   "execution_count": 12,
   "metadata": {},
   "outputs": [
    {
     "name": "stdout",
     "output_type": "stream",
     "text": [
      "[2.75084, 3.90311, 2.0406, 40.0402]\n",
      "[2.75084, 3.90311, 2.0406, 40.0402]\n"
     ]
    }
   ],
   "source": [
    "qq, qqd, qqdd = [0.1, 0.2, 0.01, 0.2], [1.1, 1.5, 1.2, 200.2], [0.51, 0.52, 0.01, 0.51]\n",
    "\n",
    "u_rec = tau_rec_eval(qq, qqd, qqdd, alpha.sim_p, alpha.gravity)\n",
    "u_cf = tau_cf_eval(qq, qqd, qqdd, alpha.sim_p, alpha.gravity)\n",
    "\n",
    "print(u_rec)\n",
    "print(u_cf)\n"
   ]
  },
  {
   "cell_type": "code",
   "execution_count": null,
   "metadata": {},
   "outputs": [],
   "source": []
  }
 ],
 "metadata": {
  "kernelspec": {
   "display_name": "Python 3",
   "language": "python",
   "name": "python3"
  },
  "language_info": {
   "codemirror_mode": {
    "name": "ipython",
    "version": 3
   },
   "file_extension": ".py",
   "mimetype": "text/x-python",
   "name": "python",
   "nbconvert_exporter": "python",
   "pygments_lexer": "ipython3",
   "version": "3.9.6"
  }
 },
 "nbformat": 4,
 "nbformat_minor": 2
}
