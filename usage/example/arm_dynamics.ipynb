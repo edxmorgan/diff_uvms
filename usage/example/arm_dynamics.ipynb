{
 "cells": [
  {
   "cell_type": "code",
   "execution_count": 5,
   "metadata": {},
   "outputs": [
    {
     "name": "stdout",
     "output_type": "stream",
     "text": [
      "jit after {'jit': True, 'jit_options': {'flags': '-Ofast'}, 'compiler': 'shell'}\n",
      "number of joints = 4\n"
     ]
    }
   ],
   "source": [
    "%run alpha.ipynb"
   ]
  },
  {
   "cell_type": "code",
   "execution_count": null,
   "metadata": {},
   "outputs": [
    {
     "name": "stdout",
     "output_type": "stream",
     "text": [
      "floating_base found\n",
      "no floating_base found\n",
      "floating_base found\n",
      "no floating_base found\n"
     ]
    },
    {
     "ename": "TypeError",
     "evalue": "RobotDynamics.get_bias_force() got an unexpected keyword argument 'floating_base_id'",
     "output_type": "error",
     "traceback": [
      "\u001b[0;31m---------------------------------------------------------------------------\u001b[0m",
      "\u001b[0;31mTypeError\u001b[0m                                 Traceback (most recent call last)",
      "Cell \u001b[0;32mIn[8], line 2\u001b[0m\n\u001b[1;32m      1\u001b[0m H \u001b[38;5;241m=\u001b[39m rig_dyn\u001b[38;5;241m.\u001b[39mget_inertia_matrix(gravity\u001b[38;5;241m=\u001b[39m\u001b[38;5;241m9.81\u001b[39m, floating_base_id\u001b[38;5;241m=\u001b[39m\u001b[38;5;28;01mNone\u001b[39;00m, floating_base_bias_f\u001b[38;5;241m=\u001b[39m\u001b[38;5;28;01mNone\u001b[39;00m, coupled\u001b[38;5;241m=\u001b[39m\u001b[38;5;28;01mFalse\u001b[39;00m)\n\u001b[0;32m----> 2\u001b[0m C \u001b[38;5;241m=\u001b[39m \u001b[43mrig_dyn\u001b[49m\u001b[38;5;241;43m.\u001b[39;49m\u001b[43mget_bias_force\u001b[49m\u001b[43m(\u001b[49m\u001b[43mgravity\u001b[49m\u001b[38;5;241;43m=\u001b[39;49m\u001b[38;5;241;43m9.81\u001b[39;49m\u001b[43m,\u001b[49m\u001b[43m \u001b[49m\u001b[43mfloating_base_id\u001b[49m\u001b[38;5;241;43m=\u001b[39;49m\u001b[38;5;28;43;01mNone\u001b[39;49;00m\u001b[43m,\u001b[49m\u001b[43m \u001b[49m\u001b[43mfloating_base_bias_f\u001b[49m\u001b[38;5;241;43m=\u001b[39;49m\u001b[38;5;28;43;01mNone\u001b[39;49;00m\u001b[43m,\u001b[49m\u001b[43m \u001b[49m\u001b[43mcoupled\u001b[49m\u001b[38;5;241;43m=\u001b[39;49m\u001b[38;5;28;43;01mFalse\u001b[39;49;00m\u001b[43m)\u001b[49m\n\u001b[1;32m      4\u001b[0m tau, _, i_X_p_, i_X_0s_, Si_ \u001b[38;5;241m=\u001b[39m rig_dyn\u001b[38;5;241m.\u001b[39mget_inverse_dynamics_rnea(gravity\u001b[38;5;241m=\u001b[39m\u001b[38;5;241m9.81\u001b[39m, floating_base_id\u001b[38;5;241m=\u001b[39m\u001b[38;5;28;01mNone\u001b[39;00m, coupled\u001b[38;5;241m=\u001b[39m\u001b[38;5;28;01mFalse\u001b[39;00m)\n\u001b[1;32m      6\u001b[0m tau_H \u001b[38;5;241m=\u001b[39m H\u001b[38;5;129m@ss\u001b[39m\u001b[38;5;241m.\u001b[39mq_ddot \u001b[38;5;241m+\u001b[39m C\n",
      "\u001b[0;31mTypeError\u001b[0m: RobotDynamics.get_bias_force() got an unexpected keyword argument 'floating_base_id'"
     ]
    }
   ],
   "source": [
    "H = rig_dyn.get_inertia_matrix(gravity=9.81, floating_base_id=None, floating_base_bias_f=None, coupled=False)\n",
    "C = rig_dyn.get_bias_force(gravity=9.81, floating_base_bias_f=None, coupled=False)\n",
    "\n",
    "tau, _, i_X_p_, i_X_0s_, Si_ = rig_dyn.get_inverse_dynamics_rnea(gravity=9.81, floating_base_id=None, coupled=False)\n",
    "\n",
    "tau_H = H@ss.q_ddot + C"
   ]
  },
  {
   "cell_type": "code",
   "execution_count": 7,
   "metadata": {},
   "outputs": [
    {
     "ename": "RuntimeError",
     "evalue": "Error in Function::Function for 'tau_H' [SXFunction] at .../casadi/core/function.cpp:240:\n.../casadi/core/function_internal.cpp:146: Error calling SXFunction::init for 'tau_H':\n.../casadi/core/sx_function.cpp:476: tau_H::init: Initialization failed since variables [v_base_0v_base_1v_base_2v_base_3v_base_4v_base_5] are free. These symbols occur in the output expressions but you forgot to declare these as inputs. Set option 'allow_free' to allow free variables.",
     "output_type": "error",
     "traceback": [
      "\u001b[0;31m---------------------------------------------------------------------------\u001b[0m",
      "\u001b[0;31mRuntimeError\u001b[0m                              Traceback (most recent call last)",
      "\u001b[0;32m/tmp/ipykernel_8044/1451579347.py\u001b[0m in \u001b[0;36m?\u001b[0;34m()\u001b[0m\n\u001b[1;32m      1\u001b[0m \u001b[0;31m# verifications\u001b[0m\u001b[0;34m\u001b[0m\u001b[0;34m\u001b[0m\u001b[0m\n\u001b[0;32m----> 2\u001b[0;31m H_tau_eval = cs.Function(\n\u001b[0m\u001b[1;32m      3\u001b[0m     'tau_H', [ss.q, ss.q_dot, ss.q_ddot, ss.rigid_body_p, ss.hydrodynamic_p, ss.base_T], [tau_H])\n\u001b[1;32m      4\u001b[0m tau_base_eval = cs.Function(\n\u001b[1;32m      5\u001b[0m     'ID_', [ss.q, ss.q_dot, ss.q_ddot, ss.rigid_body_p, ss.hydrodynamic_p, ss.base_T], [tau])\n",
      "\u001b[0;32m~/.local/lib/python3.10/site-packages/casadi/casadi.py\u001b[0m in \u001b[0;36m?\u001b[0;34m(self, *args)\u001b[0m\n\u001b[1;32m  23787\u001b[0m \u001b[0;34m\u001b[0m\u001b[0m\n\u001b[1;32m  23788\u001b[0m \u001b[0;34m\u001b[0m\u001b[0m\n\u001b[1;32m  23789\u001b[0m \u001b[0;34m\u001b[0m\u001b[0m\n\u001b[1;32m  23790\u001b[0m         \"\"\"\n\u001b[0;32m> 23791\u001b[0;31m         \u001b[0mthis\u001b[0m \u001b[0;34m=\u001b[0m \u001b[0m_casadi\u001b[0m\u001b[0;34m.\u001b[0m\u001b[0mnew_Function\u001b[0m\u001b[0;34m(\u001b[0m\u001b[0;34m*\u001b[0m\u001b[0margs\u001b[0m\u001b[0;34m)\u001b[0m\u001b[0;34m\u001b[0m\u001b[0;34m\u001b[0m\u001b[0m\n\u001b[0m\u001b[1;32m  23792\u001b[0m         \u001b[0;32mtry\u001b[0m\u001b[0;34m:\u001b[0m\u001b[0;34m\u001b[0m\u001b[0;34m\u001b[0m\u001b[0m\n\u001b[1;32m  23793\u001b[0m             \u001b[0mself\u001b[0m\u001b[0;34m.\u001b[0m\u001b[0mthis\u001b[0m\u001b[0;34m.\u001b[0m\u001b[0mappend\u001b[0m\u001b[0;34m(\u001b[0m\u001b[0mthis\u001b[0m\u001b[0;34m)\u001b[0m\u001b[0;34m\u001b[0m\u001b[0;34m\u001b[0m\u001b[0m\n\u001b[1;32m  23794\u001b[0m         \u001b[0;32mexcept\u001b[0m \u001b[0m__builtin__\u001b[0m\u001b[0;34m.\u001b[0m\u001b[0mException\u001b[0m\u001b[0;34m:\u001b[0m\u001b[0;34m\u001b[0m\u001b[0;34m\u001b[0m\u001b[0m\n",
      "\u001b[0;31mRuntimeError\u001b[0m: Error in Function::Function for 'tau_H' [SXFunction] at .../casadi/core/function.cpp:240:\n.../casadi/core/function_internal.cpp:146: Error calling SXFunction::init for 'tau_H':\n.../casadi/core/sx_function.cpp:476: tau_H::init: Initialization failed since variables [v_base_0v_base_1v_base_2v_base_3v_base_4v_base_5] are free. These symbols occur in the output expressions but you forgot to declare these as inputs. Set option 'allow_free' to allow free variables."
     ]
    }
   ],
   "source": [
    "# verifications\n",
    "H_tau_eval = cs.Function(\n",
    "    'tau_H', [ss.q, ss.q_dot, ss.q_ddot, ss.rigid_body_p, ss.hydrodynamic_p, ss.base_T], [tau_H])\n",
    "tau_base_eval = cs.Function(\n",
    "    'ID_', [ss.q, ss.q_dot, ss.q_ddot, ss.rigid_body_p, ss.hydrodynamic_p, ss.base_T], [tau])"
   ]
  },
  {
   "cell_type": "code",
   "execution_count": 4,
   "metadata": {},
   "outputs": [
    {
     "ename": "NameError",
     "evalue": "name 'H_tau_eval' is not defined",
     "output_type": "error",
     "traceback": [
      "\u001b[0;31m---------------------------------------------------------------------------\u001b[0m",
      "\u001b[0;31mNameError\u001b[0m                                 Traceback (most recent call last)",
      "Cell \u001b[0;32mIn[4], line 14\u001b[0m\n\u001b[1;32m      2\u001b[0m base_T0 \u001b[38;5;241m=\u001b[39m [\u001b[38;5;241m0\u001b[39m, \u001b[38;5;241m0\u001b[39m, \u001b[38;5;241m0\u001b[39m , \u001b[38;5;241m0\u001b[39m, \u001b[38;5;241m0\u001b[39m, \u001b[38;5;241m0\u001b[39m]\n\u001b[1;32m      3\u001b[0m ppp0ex \u001b[38;5;241m=\u001b[39m [\u001b[38;5;241m2253.54\u001b[39m, \u001b[38;5;241m2253.54\u001b[39m, \u001b[38;5;241m2253.54\u001b[39m, \u001b[38;5;241m340.4\u001b[39m,\n\u001b[1;32m      4\u001b[0m           \u001b[38;5;241m0\u001b[39m, \u001b[38;5;241m0\u001b[39m, \u001b[38;5;241m0\u001b[39m, \u001b[38;5;241m0.1\u001b[39m, \u001b[38;5;241m0\u001b[39m, \u001b[38;5;241m0\u001b[39m,\n\u001b[1;32m      5\u001b[0m           \u001b[38;5;241m0\u001b[39m, \u001b[38;5;241m0\u001b[39m, \u001b[38;5;241m0\u001b[39m, \u001b[38;5;241m0\u001b[39m, \u001b[38;5;241m0.1\u001b[39m, \u001b[38;5;241m0\u001b[39m,\n\u001b[0;32m   (...)\u001b[0m\n\u001b[1;32m     11\u001b[0m           \u001b[38;5;241m0.2\u001b[39m, \u001b[38;5;241m0.2\u001b[39m, \u001b[38;5;241m0.9\u001b[39m, \u001b[38;5;241m0.8\u001b[39m\n\u001b[1;32m     12\u001b[0m           ]\n\u001b[0;32m---> 14\u001b[0m ht \u001b[38;5;241m=\u001b[39m \u001b[43mH_tau_eval\u001b[49m(qq, qqd, qqdd, ppp0ex, arm_Hyd__p_est, base_T0)\n\u001b[1;32m     16\u001b[0m t \u001b[38;5;241m=\u001b[39m tau_base_eval(qq, qqd, qqdd, ppp0ex, arm_Hyd__p_est, base_T0)\n\u001b[1;32m     18\u001b[0m \u001b[38;5;28mprint\u001b[39m(ht)\n",
      "\u001b[0;31mNameError\u001b[0m: name 'H_tau_eval' is not defined"
     ]
    }
   ],
   "source": [
    "qq, qqd, qqdd = [0.1, 0.2, 0.01, 0.2], [1.1, 1.5, 1.2, 200.2], [0.51, 0.52, 0.01, 0.51]\n",
    "base_T0 = [0, 0, 0 , 0, 0, 0]\n",
    "ppp0ex = [2253.54, 2253.54, 2253.54, 340.4,\n",
    "          0, 0, 0, 0.1, 0, 0,\n",
    "          0, 0, 0, 0, 0.1, 0,\n",
    "          0, 0, 0.1, 0.0,\n",
    "          0.1,\n",
    "          0.0, 0.0, 0.0, 0.0,\n",
    "          0.2, 0.2, 0.9, 0.8,\n",
    "          0.0, 0.0, 0.0, 0.0,\n",
    "          0.2, 0.2, 0.9, 0.8\n",
    "          ]\n",
    "\n",
    "ht = H_tau_eval(qq, qqd, qqdd, ppp0ex, arm_Hyd__p_est, base_T0)\n",
    "\n",
    "t = tau_base_eval(qq, qqd, qqdd, ppp0ex, arm_Hyd__p_est, base_T0)\n",
    "\n",
    "print(ht)\n",
    "print(t)\n",
    "# [115.143, 117.481, 3.3328, 177.52]\n",
    "# [115.143, 117.481, 3.3328, 177.52]"
   ]
  },
  {
   "cell_type": "code",
   "execution_count": 5,
   "metadata": {},
   "outputs": [
    {
     "name": "stdout",
     "output_type": "stream",
     "text": [
      "[3.31188, 3.45983, 2.63969, 60.0617]\n",
      "[3.31188, 3.45983, 2.63969, 60.0617]\n"
     ]
    }
   ],
   "source": [
    "u_ht = H_tau_eval(qq, qqd, qqdd, rigid_body_p_est, arm_Hyd__p_est, base_T0)\n",
    "u_est = tau_base_eval(qq, qqd, qqdd, rigid_body_p_est, arm_Hyd__p_est, base_T0)\n",
    "\n",
    "print(u_ht)\n",
    "print(u_est)"
   ]
  },
  {
   "cell_type": "code",
   "execution_count": null,
   "metadata": {},
   "outputs": [],
   "source": []
  },
  {
   "cell_type": "code",
   "execution_count": null,
   "metadata": {},
   "outputs": [],
   "source": []
  }
 ],
 "metadata": {
  "kernelspec": {
   "display_name": "usr",
   "language": "python",
   "name": "python3"
  },
  "language_info": {
   "codemirror_mode": {
    "name": "ipython",
    "version": 3
   },
   "file_extension": ".py",
   "mimetype": "text/x-python",
   "name": "python",
   "nbconvert_exporter": "python",
   "pygments_lexer": "ipython3",
   "version": "3.10.12"
  }
 },
 "nbformat": 4,
 "nbformat_minor": 2
}
