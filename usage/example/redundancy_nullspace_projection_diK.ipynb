{
 "cells": [
  {
   "cell_type": "code",
   "execution_count": 1,
   "metadata": {},
   "outputs": [
    {
     "name": "stdout",
     "output_type": "stream",
     "text": [
      "jit after {'jit': True, 'jit_options': {'flags': '-Ofast'}, 'compiler': 'shell'}\n",
      "number of joints = 4\n",
      "Task Space Box:\n",
      "{'x_min': -0.05772180470827806, 'x_max': 0.03015406093747365, 'y_min': -0.06853860224338981, 'y_max': 0.057466988088834825, 'z_min': -0.2216507997959984, 'z_max': 0.3100041333006747}\n"
     ]
    }
   ],
   "source": [
    "%run forward_kinematics.ipynb"
   ]
  },
  {
   "cell_type": "code",
   "execution_count": 2,
   "metadata": {},
   "outputs": [],
   "source": [
    "J = dIFF_KinJ4\n",
    "J_plus = cs.pinv(J)\n",
    "I = cs.SX.eye(J.size2())\n",
    "\n",
    "J_ned = cs.SX.zeros((10, 10))\n",
    "J_ned[:6,:6] = J_uv\n",
    "J_ned[6:,6:] = cs.SX.eye(4)\n",
    "\n",
    "J_ned_inv = cs.inv(J_ned)"
   ]
  },
  {
   "cell_type": "code",
   "execution_count": 3,
   "metadata": {},
   "outputs": [],
   "source": [
    "# --- Secondary Task: joint limit cost---\n",
    "# stay away from the joint limits \n",
    "\n",
    "sigma_wq_i = 0\n",
    "for i in range(arm_ss.n.size1()):\n",
    "    q_i_bar = (arm_ss.uvms_ul[i] + arm_ss.uvms_ll[i])/2\n",
    "    wq_i = ((arm_ss.n[i] - q_i_bar)/(arm_ss.uvms_ul[i] - arm_ss.uvms_ll[i]))**2\n",
    "    sigma_wq_i = sigma_wq_i + wq_i\n",
    "    \n",
    "    \n",
    "wq =  (1/(2*arm_ss.n.size1()))*sigma_wq_i\n",
    "\n",
    "J_wq = cs.jacobian(wq, arm_ss.n)\n",
    "\n",
    "# qdot_sec = cs.diag(uvms_ss.k0)@J_wq.T"
   ]
  },
  {
   "cell_type": "code",
   "execution_count": 4,
   "metadata": {},
   "outputs": [],
   "source": [
    "# --- Secondary Task: Collision-avoidance cost ---\n",
    "# Suppose you have a function that calculates w_col(q)\n",
    "# w_col = collision_cost(q, base_geometry, manipulator_geometry)\n",
    "# J_col = jacobian(w_col, q)"
   ]
  },
  {
   "cell_type": "code",
   "execution_count": 5,
   "metadata": {},
   "outputs": [],
   "source": [
    "# Weighted combination of the two secondary tasks\n",
    "J_total = J_wq\n",
    "# Secondary velocity\n",
    "qdot_sec = cs.diag(arm_ss.k0) @ J_total.T\n",
    "\n"
   ]
  },
  {
   "cell_type": "code",
   "execution_count": 6,
   "metadata": {},
   "outputs": [],
   "source": [
    "# task projection\n",
    "IK_v = J_ned_inv@(J_plus@arm_ss.des_v + (I - J_plus@J)@qdot_sec)\n",
    "IK_v_func = cs.Function('d_iK', [arm_ss.des_v, arm_ss.n, arm_ss.uvms_ul, arm_ss.uvms_ll, arm_ss.k0, arm_ss.base_T], [IK_v])\n",
    "IK_v_func.save('diff_iK.casadi')"
   ]
  },
  {
   "cell_type": "code",
   "execution_count": 7,
   "metadata": {},
   "outputs": [],
   "source": [
    "# differential inverse kinematics\n",
    "# IK_v"
   ]
  },
  {
   "cell_type": "code",
   "execution_count": 8,
   "metadata": {},
   "outputs": [
    {
     "data": {
      "text/plain": [
       "DM([0.000700213, 0.000725986, -0.000772064, 3.13955e-05, 2.01581e-05, 2.42778e-05, -0.00532236, -0.00534529, -0.0053826, -0.00534664])"
      ]
     },
     "execution_count": 8,
     "metadata": {},
     "output_type": "execute_result"
    }
   ],
   "source": [
    "IK_v_func([0,0,0, 0,0,0], [0,0,0, 0.01,0.01,0.01 ,1,1,1,1], [10, 10, 10, cs.pi,cs.pi,cs.pi, 2*cs.pi, 2*cs.pi, 2*cs.pi, 2*cs.pi], [-10, -10, -10, -cs.pi,-cs.pi,-cs.pi, 0,0,0,0], [1,1,1, 1,1,1, 1,1,1,1], alpha.base_T0)"
   ]
  },
  {
   "cell_type": "code",
   "execution_count": null,
   "metadata": {},
   "outputs": [],
   "source": []
  }
 ],
 "metadata": {
  "kernelspec": {
   "display_name": "Python 3",
   "language": "python",
   "name": "python3"
  },
  "language_info": {
   "codemirror_mode": {
    "name": "ipython",
    "version": 3
   },
   "file_extension": ".py",
   "mimetype": "text/x-python",
   "name": "python",
   "nbconvert_exporter": "python",
   "pygments_lexer": "ipython3",
   "version": "3.9.6"
  }
 },
 "nbformat": 4,
 "nbformat_minor": 2
}
