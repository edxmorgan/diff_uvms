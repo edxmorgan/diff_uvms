{
 "cells": [
  {
   "cell_type": "code",
   "execution_count": 1,
   "metadata": {},
   "outputs": [
    {
     "name": "stdout",
     "output_type": "stream",
     "text": [
      "jit after {'jit': True, 'jit_options': {'flags': '-Ofast'}, 'compiler': 'shell'}\n",
      "number of joints = 4\n",
      "Task Space Box:\n",
      "{'x_min': -0.28692105492352493, 'x_max': 0.054610904328225296, 'y_min': -0.038530132874644796, 'y_max': 0.20243427434910413, 'z_min': 0.01477899230715364, 'z_max': 0.3100041333006748}\n"
     ]
    }
   ],
   "source": [
    "%run uvms_forward_kinematics.ipynb"
   ]
  },
  {
   "cell_type": "code",
   "execution_count": 2,
   "metadata": {},
   "outputs": [],
   "source": [
    "J = dIFF_KinJ4\n",
    "J_plus = cs.pinv(J)\n",
    "I = cs.SX.eye(J.size2())\n",
    "\n",
    "J_ned = cs.SX.zeros((10, 10))\n",
    "J_ned[:6,:6] = J_uv\n",
    "J_ned[6:,6:] = cs.SX.eye(4)\n",
    "\n",
    "J_ned_inv = cs.inv(J_ned)"
   ]
  },
  {
   "cell_type": "code",
   "execution_count": 3,
   "metadata": {},
   "outputs": [],
   "source": [
    "# joint limit secondary task\n",
    "# stay away from the joint limits \n",
    "\n",
    "sigma_wq_i = 0\n",
    "for i in range(uvms_ss.total_dof):\n",
    "    q_i_bar = (uvms_ss.ul[i] + uvms_ss.ll[i])/2\n",
    "    wq_i = ((uvms_ss.n[i] - q_i_bar)/(uvms_ss.ul[i] - uvms_ss.ll[i]))**2\n",
    "    sigma_wq_i = sigma_wq_i + wq_i\n",
    "    \n",
    "    \n",
    "wq =  (1/(2*uvms_ss.total_dof))*sigma_wq_i\n",
    "\n",
    "J_wq = cs.jacobian(wq, uvms_ss.n)\n",
    "\n",
    "qdot_sec = cs.diag(uvms_ss.k0)@J_wq.T"
   ]
  },
  {
   "cell_type": "code",
   "execution_count": 4,
   "metadata": {},
   "outputs": [],
   "source": [
    "# task projection\n",
    "IK_v = J_ned_inv@(J_plus@uvms_ss.des_v + (I - J_plus@J)@qdot_sec)\n",
    "IK_v_func = cs.Function('d_iK', [uvms_ss.des_v, uvms_ss.n, uvms_ss.ul, uvms_ss.ll, uvms_ss.k0, base_ss.base_T], [IK_v])\n",
    "# IK_v_func.save('diff_iK.casadi')"
   ]
  },
  {
   "cell_type": "code",
   "execution_count": 1,
   "metadata": {},
   "outputs": [],
   "source": [
    "# differential inverse kinematics\n",
    "# IK_v"
   ]
  },
  {
   "cell_type": "code",
   "execution_count": 6,
   "metadata": {},
   "outputs": [
    {
     "data": {
      "text/plain": [
       "DM([0.000692876, 0.000732804, -0.000779058, 3.15914e-05, 1.98439e-05, 2.45993e-05, -0.00532236, -0.00534529, -0.0053826, -0.00534664])"
      ]
     },
     "execution_count": 6,
     "metadata": {},
     "output_type": "execute_result"
    }
   ],
   "source": [
    "IK_v_func([0,0,0, 0,0,0], [0,0,0, 0.01,0.01,0.01 ,1,1,1,1], [10, 10, 10, cs.pi,cs.pi,cs.pi, 2*cs.pi, 2*cs.pi, 2*cs.pi, 2*cs.pi], [-10, -10, -10, -cs.pi,-cs.pi,-cs.pi, 0,0,0,0], [1,1,1, 1,1,1, 1,1,1,1], alpha.base_T0)"
   ]
  },
  {
   "cell_type": "code",
   "execution_count": null,
   "metadata": {},
   "outputs": [],
   "source": []
  }
 ],
 "metadata": {
  "kernelspec": {
   "display_name": "Python 3",
   "language": "python",
   "name": "python3"
  },
  "language_info": {
   "codemirror_mode": {
    "name": "ipython",
    "version": 3
   },
   "file_extension": ".py",
   "mimetype": "text/x-python",
   "name": "python",
   "nbconvert_exporter": "python",
   "pygments_lexer": "ipython3",
   "version": "3.9.6"
  }
 },
 "nbformat": 4,
 "nbformat_minor": 2
}
