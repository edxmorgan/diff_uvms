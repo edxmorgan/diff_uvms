{
 "cells": [
  {
   "cell_type": "code",
   "execution_count": 1,
   "metadata": {},
   "outputs": [
    {
     "name": "stdout",
     "output_type": "stream",
     "text": [
      "jit after {'jit': True, 'jit_options': {'flags': '-Ofast'}, 'compiler': 'shell'}\n",
      "number of joints = 4\n",
      "floating_base found\n",
      "floating_base found\n",
      "floating_base found\n",
      "floating_base found\n",
      "floating_base found\n",
      "floating_base found\n"
     ]
    }
   ],
   "source": [
    "%run uvms_forward_dynamics.ipynb"
   ]
  },
  {
   "cell_type": "code",
   "execution_count": 2,
   "metadata": {},
   "outputs": [
    {
     "name": "stdout",
     "output_type": "stream",
     "text": [
      "floating_base found\n",
      "floating_base found\n"
     ]
    }
   ],
   "source": [
    "# coupled uvms inverse dynamics instance\n",
    "UVMS_ID_coupled = rig_dyn.get_inverse_dynamics_rnea(gravity=9.81, floating_base_id=tau_F, coupled=True)\n",
    "\n",
    "UVMS_ID_coupled_eval = cs.Function('UVMS_ID_coupled', [states, uvms_ss.uvms_acc, vehicle_p, manipulator_p, base_T], [UVMS_ID_coupled])\n",
    "\n",
    "\n",
    "# decoupled uvms inverse dynamics instance\n",
    "UVMS_ID_decoupled = rig_dyn.get_inverse_dynamics_rnea(gravity=9.81, floating_base_id=tau_F, coupled=False)\n",
    "\n",
    "UVMS_ID_decoupled_eval = cs.Function('UVMS_ID_decoupled', [states, uvms_ss.uvms_acc, vehicle_p, manipulator_p, base_T], [UVMS_ID_decoupled])\n",
    "\n",
    "\n",
    "# conditional inverse dynamics instance\n",
    "UVMS_ID_use_coupled = cs.Function.if_else('UVMS_ID_use_coupled', UVMS_ID_coupled_eval, UVMS_ID_decoupled_eval)"
   ]
  },
  {
   "cell_type": "code",
   "execution_count": 3,
   "metadata": {},
   "outputs": [
    {
     "data": {
      "text/plain": [
       "DM([0, 0, 1.985, 0, 0, 0, 0, 0, 0, 0])"
      ]
     },
     "execution_count": 3,
     "metadata": {},
     "output_type": "execute_result"
    }
   ],
   "source": [
    "x0 = np.array([0, 0, 0.1, 0, 0, 0, 0.0, 0.0, 0.0, 0.0, 0, 0, 0, 0, 0, 0, 0, 0, 0, 0]) #x y z r p y q0 q1 q2 q3 u v w p q r qd0 qd1 qd2 qd3 qd4\n",
    "a0 = [0, 0, 0, 0, 0, 0, 0.0, 0.0, 0.0, 0.0]\n",
    "\n",
    "UVMS_ID_use_coupled(use_coupled, x0, a0, blue.sim_p, alpha.sim_p, alpha.base_T0)"
   ]
  },
  {
   "cell_type": "code",
   "execution_count": 4,
   "metadata": {},
   "outputs": [
    {
     "name": "stdout",
     "output_type": "stream",
     "text": [
      "floating_base found\n",
      "floating_base found\n"
     ]
    }
   ],
   "source": [
    "# coupled uvms bias force instance\n",
    "UVMS_B_coupled = rig_dyn.get_bias_force(gravity=9.81, floating_base_bias_f=b_F, coupled=True)\n",
    "\n",
    "UVMS_B_coupled_eval = cs.Function('UVMS_B_coupled', [states, vehicle_p, manipulator_p, base_T], [UVMS_B_coupled])\n",
    "\n",
    "\n",
    "# decoupled uvms bias force instance\n",
    "UVMS_B_decoupled = rig_dyn.get_bias_force(gravity=9.81, floating_base_bias_f=b_F, coupled=False)\n",
    "\n",
    "UVMS_B_decoupled_eval = cs.Function('UVMS_B_decoupled', [states, vehicle_p, manipulator_p, base_T], [UVMS_B_decoupled])\n",
    "\n",
    "\n",
    "# conditional bias force instance\n",
    "UVMS_B_use_coupled = cs.Function.if_else('UVMS_B_use_coupled', UVMS_B_coupled_eval, UVMS_B_decoupled_eval)\n",
    "UVMS_B_use_coupled.save('uvms_B.casadi')"
   ]
  },
  {
   "cell_type": "code",
   "execution_count": 5,
   "metadata": {},
   "outputs": [
    {
     "data": {
      "text/plain": [
       "DM([0, 0, 1.985, 0, 0, 0, 0, 0, 0, 0])"
      ]
     },
     "execution_count": 5,
     "metadata": {},
     "output_type": "execute_result"
    }
   ],
   "source": [
    "x0 = np.array([0, 0, 0.1, 0, 0, 0, 0.0, 0.0, 0.0, 0.0, 0, 0, 0, 0, 0, 0, 0, 0, 0, 0]) #x y z r p y q0 q1 q2 q3 u v w p q r qd0 qd1 qd2 qd3 qd4\n",
    "\n",
    "UVMS_B_use_coupled(use_coupled, x0, blue.sim_p, alpha.sim_p, alpha.base_T0)"
   ]
  },
  {
   "cell_type": "code",
   "execution_count": 6,
   "metadata": {},
   "outputs": [
    {
     "name": "stdout",
     "output_type": "stream",
     "text": [
      "floating_base found\n",
      "floating_base found\n",
      "floating_base found\n",
      "floating_base found\n"
     ]
    }
   ],
   "source": [
    "# coupled uvms inertia matrix instance\n",
    "UVMS_H_coupled = rig_dyn.get_inertia_matrix(gravity=9.81, floating_base_id=tau_F, floating_base_bias_f=b_F, coupled=True)\n",
    "\n",
    "UVMS_H_coupled_eval = cs.Function('UVMS_H_coupled', [states, vehicle_p, manipulator_p, base_T], [UVMS_H_coupled])\n",
    "\n",
    "\n",
    "# decoupled uvms inertia matrix instance\n",
    "UVMS_H_decoupled = rig_dyn.get_inertia_matrix(gravity=9.81, floating_base_id=tau_F, floating_base_bias_f=b_F, coupled=False)\n",
    "\n",
    "UVMS_H_decoupled_eval = cs.Function('UVMS_H_decoupled', [states, vehicle_p, manipulator_p, base_T], [UVMS_H_decoupled])\n",
    "\n",
    "\n",
    "# conditional inertia matrix instance\n",
    "UVMS_H_use_coupled = cs.Function.if_else('UVMS_H_use_coupled', UVMS_H_coupled_eval, UVMS_H_decoupled_eval)\n",
    "UVMS_H_use_coupled.save('uvms_H.casadi')"
   ]
  },
  {
   "cell_type": "code",
   "execution_count": 7,
   "metadata": {},
   "outputs": [
    {
     "data": {
      "text/plain": [
       "DM(\n",
       "[[17, 0, 0, 0, 0.23, 0, -0.0253369, 0.0182215, -0.0110527, -0.000490842], \n",
       " [0, 24.2, 0, -0.23, 0, 0, -0.0275437, -0.0606496, 0.0187418, -0.000870158], \n",
       " [0, 0, 26.07, 0, 0, 0, -1.12198e-05, 0.00585898, 0.00776247, -3.54456e-07], \n",
       " [0, -0.23, 0, 0.28, 0, 0, 0.00428134, 0.0189567, -0.00611939, 0.000187603], \n",
       " [0.23, 0, 0, 0, 0.28, 0, -0.00777851, -0.0183087, 0.0176397, -0.000102593], \n",
       " [0, 0, 0, 0, 0, 0.28, -0.0286729, -0.0112978, 0.00339453, 0.00334353], \n",
       " [0, 0, 0, 0, 0, 0, 0.0225364, 1.24241e-06, -3.38627e-07, -1.53776e-06], \n",
       " [0, 0, 0, 0, 0, 0, 2.32282e-06, 0.022534, -8.73647e-06, 2.2922e-08], \n",
       " [0, 0, 0, 0, 0, 0, -6.74167e-07, 1.13485e-06, 0.022535, 8.72574e-09], \n",
       " [0, 0, 0, 0, 0, 0, -2.99173e-08, 1.77816e-07, 3.90861e-08, 0.00340423]])"
      ]
     },
     "execution_count": 7,
     "metadata": {},
     "output_type": "execute_result"
    }
   ],
   "source": [
    "x0 = np.array([0, 0, 0, 0, 0, 0, 0.0, 0.0, 0.0, 0.0, 0, 0, 0, 0, 0, 0, 0, 0, 0, 0]) #x y z r p y q0 q1 q2 q3 u v w p q r qd0 qd1 qd2 qd3 qd4\n",
    "\n",
    "UVMS_H_use_coupled(use_coupled, x0, blue.sim_p, alpha.sim_p, alpha.base_T0)"
   ]
  },
  {
   "cell_type": "code",
   "execution_count": 8,
   "metadata": {},
   "outputs": [],
   "source": [
    "# coupling affected base inverse dynamics instance\n",
    "uvms_base_id_eval = cs.Function('uvms_base_id', [states, uvms_ss.uvms_acc, vehicle_p, manipulator_p, base_T], [UVMS_ID_coupled[0:6]])\n",
    "# uvms_base_id_eval.save('uvms_base_id.casadi')"
   ]
  },
  {
   "cell_type": "code",
   "execution_count": null,
   "metadata": {},
   "outputs": [],
   "source": []
  }
 ],
 "metadata": {
  "kernelspec": {
   "display_name": "Python 3",
   "language": "python",
   "name": "python3"
  },
  "language_info": {
   "codemirror_mode": {
    "name": "ipython",
    "version": 3
   },
   "file_extension": ".py",
   "mimetype": "text/x-python",
   "name": "python",
   "nbconvert_exporter": "python",
   "pygments_lexer": "ipython3",
   "version": "3.9.6"
  }
 },
 "nbformat": 4,
 "nbformat_minor": 2
}
