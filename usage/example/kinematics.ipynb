{
 "cells": [
  {
   "cell_type": "code",
   "execution_count": 1,
   "metadata": {},
   "outputs": [
    {
     "name": "stdout",
     "output_type": "stream",
     "text": [
      "jit after {'jit': True, 'jit_options': {'flags': '-Ofast'}, 'compiler': 'shell'}\n",
      "number of joints = 4\n"
     ]
    }
   ],
   "source": [
    "%run base.ipynb"
   ]
  },
  {
   "cell_type": "code",
   "execution_count": 2,
   "metadata": {},
   "outputs": [],
   "source": [
    "i_X_p, i_X_0s = rig_dyn.forward_kinematics(floating_base = True)"
   ]
  },
  {
   "cell_type": "code",
   "execution_count": 3,
   "metadata": {},
   "outputs": [],
   "source": [
    "H0 , R0, p0 = pluck.spatial_to_homogeneous(i_X_0s[0])\n",
    "T0 = cs.vertcat(p0, quatT.rotation_matrix_to_quaternion(R0, order='wxyz'))\n",
    "\n",
    "H1 , R1, p1 = pluck.spatial_to_homogeneous(i_X_0s[1])\n",
    "T1 = cs.vertcat(p1, quatT.rotation_matrix_to_quaternion(R1, order='wxyz'))\n",
    "\n",
    "H2 , R2, p2 = pluck.spatial_to_homogeneous(i_X_0s[2])\n",
    "T2 = cs.vertcat(p2, quatT.rotation_matrix_to_quaternion(R2, order='wxyz'))\n",
    "\n",
    "H3 , R3, p3 = pluck.spatial_to_homogeneous(i_X_0s[3])\n",
    "T3 = cs.vertcat(p3, quatT.rotation_matrix_to_quaternion(R3, order='wxyz'))\n",
    "\n",
    "H4 , R4, p4 = pluck.spatial_to_homogeneous(i_X_0s[4])\n",
    "T4 = cs.vertcat(p4, quatT.rotation_matrix_to_quaternion(R4, order='wxyz'))\n",
    "\n",
    "fk_eval = cs.Function(\"fkeval\", [ss.q, ss.baseT_xyz, ss.baseT_rpy, ss.p_n], [T0, T1, T2, T3, T4])\n",
    "fk_eval.save(\"fk_eval.casadi\")"
   ]
  },
  {
   "cell_type": "code",
   "execution_count": 4,
   "metadata": {},
   "outputs": [
    {
     "data": {
      "text/plain": [
       "DM([0.34, 1.00013, 0.05495, -0.000176386, 0.866025, 0.500001, 0.000101837])"
      ]
     },
     "execution_count": 4,
     "metadata": {},
     "output_type": "execute_result"
    }
   ],
   "source": [
    "# forward kinematics wrt to NED origin\n",
    "T_i = fk_eval([cs.pi, cs.pi, cs.pi, cs.pi],[0.140, 0.000, -0.120], [3.142, 0.000, 0.000],[0.2,1,0.5, 0,0,0])\n",
    "T_i[4]"
   ]
  },
  {
   "cell_type": "code",
   "execution_count": 5,
   "metadata": {},
   "outputs": [
    {
     "data": {
      "text/plain": [
       "5"
      ]
     },
     "execution_count": 5,
     "metadata": {},
     "output_type": "execute_result"
    }
   ],
   "source": [
    "len(T_i)"
   ]
  },
  {
   "cell_type": "code",
   "execution_count": 6,
   "metadata": {},
   "outputs": [
    {
     "data": {
      "text/plain": [
       "0"
      ]
     },
     "execution_count": 6,
     "metadata": {},
     "output_type": "execute_result"
    }
   ],
   "source": [
    "# c , cpp or matlab code generation for forward dynamics\n",
    "fk_eval.generate(\"fk_eval_.c\")\n",
    "os.system(f\"gcc -fPIC -shared fk_eval_.c -o libFK.so\")"
   ]
  },
  {
   "cell_type": "code",
   "execution_count": 5,
   "metadata": {},
   "outputs": [],
   "source": [
    "# whole body jacobian\n",
    "# J_H = cs.jacobian(p, cs.vertcat(ss.p_n, ss.q)) "
   ]
  }
 ],
 "metadata": {
  "kernelspec": {
   "display_name": "Python 3",
   "language": "python",
   "name": "python3"
  },
  "language_info": {
   "codemirror_mode": {
    "name": "ipython",
    "version": 3
   },
   "file_extension": ".py",
   "mimetype": "text/x-python",
   "name": "python",
   "nbconvert_exporter": "python",
   "pygments_lexer": "ipython3",
   "version": "3.9.6"
  }
 },
 "nbformat": 4,
 "nbformat_minor": 2
}
