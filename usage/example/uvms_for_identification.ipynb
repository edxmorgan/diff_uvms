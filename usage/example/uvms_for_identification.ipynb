{
 "cells": [
  {
   "cell_type": "code",
   "execution_count": 1,
   "metadata": {},
   "outputs": [
    {
     "name": "stdout",
     "output_type": "stream",
     "text": [
      "jit after {'jit': True, 'jit_options': {'flags': '-Ofast'}, 'compiler': 'shell'}\n",
      "number of joints = 4\n",
      "floating_base found\n",
      "floating_base found\n",
      "floating_base found\n",
      "floating_base found\n",
      "floating_base found\n",
      "floating_base found\n",
      "floating_base found\n",
      "floating_base found\n",
      "floating_base found\n",
      "floating_base found\n",
      "floating_base found\n",
      "floating_base found\n",
      "floating_base found\n",
      "floating_base found\n"
     ]
    }
   ],
   "source": [
    "%run uvms_inverse_dynamics.ipynb"
   ]
  },
  {
   "cell_type": "code",
   "execution_count": 2,
   "metadata": {},
   "outputs": [],
   "source": [
    "ptheta = cs.vertcat(base_ss.sim_p, arm_ss.sim_p)"
   ]
  },
  {
   "cell_type": "code",
   "execution_count": 3,
   "metadata": {},
   "outputs": [
    {
     "name": "stdout",
     "output_type": "stream",
     "text": [
      "(10, 65)\n"
     ]
    }
   ],
   "source": [
    "UVMS_ID_coupled = UVMS_ID_use_coupled(use_coupled, states,  uvms_ss.uvms_acc, vehicle_p, manipulator_p, base_T)\n",
    "\n",
    "# coupled uvms regressor matrix instance\n",
    "ID_coupled_regressor = cs.jacobian(UVMS_ID_coupled, ptheta)\n",
    "print(ID_coupled_regressor.size())\n",
    "\n",
    "UVMS_regressor_coupled_eval = cs.Function('UVMS_regressor_coupled', [states,  uvms_ss.uvms_acc, vehicle_p, manipulator_p, base_T], [ID_coupled_regressor])"
   ]
  },
  {
   "cell_type": "code",
   "execution_count": 4,
   "metadata": {},
   "outputs": [
    {
     "name": "stdout",
     "output_type": "stream",
     "text": [
      "(10, 65)\n"
     ]
    }
   ],
   "source": [
    "UVMS_ID_decoupled = UVMS_ID_use_coupled(not use_coupled, states,  uvms_ss.uvms_acc, vehicle_p, manipulator_p, base_T)\n",
    "\n",
    "# decoupled uvms regressor matrix instance\n",
    "# useful for system identification of standalone manipulator or standalone vehicle base\n",
    "ID_decoupled_regressor = cs.jacobian(UVMS_ID_decoupled, ptheta)\n",
    "print(ID_decoupled_regressor.size())\n",
    "\n",
    "UVMS_regressor_decoupled_eval = cs.Function('UVMS_regressor_decoupled', [states,  uvms_ss.uvms_acc, vehicle_p, manipulator_p, base_T], [ID_decoupled_regressor])"
   ]
  },
  {
   "cell_type": "code",
   "execution_count": 5,
   "metadata": {},
   "outputs": [],
   "source": [
    "# conditional inertia matrix instance\n",
    "UVMS_regressor_use_coupled = cs.Function.if_else('UVMS_regressor_use_coupled', UVMS_regressor_coupled_eval, UVMS_regressor_decoupled_eval)"
   ]
  },
  {
   "cell_type": "code",
   "execution_count": 6,
   "metadata": {},
   "outputs": [],
   "source": [
    "UVMS_regressor_use_coupled.save(\"UVMS_regressor_use_coupled.casadi\")"
   ]
  },
  {
   "cell_type": "code",
   "execution_count": 23,
   "metadata": {},
   "outputs": [
    {
     "data": {
      "text/plain": [
       "DM([-25.73, 116.54, 32.465, 1.16, 0.7, 16.02, 15, 2.29998, 4.40001, 0.299997])"
      ]
     },
     "execution_count": 23,
     "metadata": {},
     "output_type": "execute_result"
    }
   ],
   "source": [
    "x0 = np.array([0, 0, 0.1, 0, 0, 0, 0.0, 0.0, 1.0, 0.0, 1, 2, 0, 1, 1, 1, 5, 1, 2, 1]) #x y z r p y q0 q1 q2 q3 u v w p q r qd0 qd1 qd2 qd3 qd4\n",
    "a0 = [0, 0, 0, 0, 0, 0, 0.0, 0.0, 0.0, 0.0]\n",
    "\n",
    "# sparse regressor output\n",
    "UVMS_regressor_use_coupled(use_coupled, x0, a0, blue.sim_p, alpha.sim_p, alpha.base_T0)@cs.vertcat(blue.sim_p, alpha.sim_p)"
   ]
  },
  {
   "cell_type": "code",
   "execution_count": 24,
   "metadata": {},
   "outputs": [
    {
     "data": {
      "text/plain": [
       "DM([-26.4951, 116.487, 33.2231, 1.37349, 1.0167, 16.0659, 15, 2.30002, 4.39999, 0.300003])"
      ]
     },
     "execution_count": 24,
     "metadata": {},
     "output_type": "execute_result"
    }
   ],
   "source": [
    "UVMS_ID_use_coupled(use_coupled, x0, a0, blue.sim_p, alpha.sim_p, alpha.base_T0)"
   ]
  },
  {
   "cell_type": "code",
   "execution_count": null,
   "metadata": {},
   "outputs": [],
   "source": []
  }
 ],
 "metadata": {
  "kernelspec": {
   "display_name": "Python 3",
   "language": "python",
   "name": "python3"
  },
  "language_info": {
   "codemirror_mode": {
    "name": "ipython",
    "version": 3
   },
   "file_extension": ".py",
   "mimetype": "text/x-python",
   "name": "python",
   "nbconvert_exporter": "python",
   "pygments_lexer": "ipython3",
   "version": "3.9.6"
  }
 },
 "nbformat": 4,
 "nbformat_minor": 2
}
