{
 "cells": [
  {
   "cell_type": "code",
   "execution_count": 1,
   "metadata": {},
   "outputs": [
    {
     "name": "stdout",
     "output_type": "stream",
     "text": [
      "jit after {'jit': True, 'jit_options': {'flags': '-Ofast'}, 'compiler': 'shell'}\n",
      "number of joints = 4\n",
      "floating_base found\n",
      "floating_base found\n",
      "floating_base found\n",
      "floating_base found\n"
     ]
    }
   ],
   "source": [
    "%run uvms_dynamics.ipynb"
   ]
  },
  {
   "cell_type": "code",
   "execution_count": 2,
   "metadata": {},
   "outputs": [
    {
     "data": {
      "text/plain": [
       "SX([m, W, B, x_g, y_g, z_g, x_b, y_b, z_b, I_x, I_y, I_z, I_xz, X_du, Y_dv, Z_dw, K_dp, M_dq, N_dr, X_dq, Y_dp, M_du, K_dv, X_u, Y_v, Z_w, K_p, M_q, N_r, X_uu, Y_vv, Z_ww, K_pp, M_qq, N_rr, v_c_0, v_c_1, v_c_2, v_c_3, v_c_4, v_c_5, G_0, G_1, G_2, G_3, Ir3_14, Ir2_7, Ir1_7, Ir0_14, fw_static_0, fw_static_1, fw_static_2, fw_static_3, fw_viscous_0, fw_viscous_1, fw_viscous_2, fw_viscous_3, bw_static_0, bw_static_1, bw_static_2, bw_static_3, bw_viscous_0, bw_viscous_1, bw_viscous_2, bw_viscous_3])"
      ]
     },
     "execution_count": 2,
     "metadata": {},
     "output_type": "execute_result"
    }
   ],
   "source": [
    "ptheta = cs.vertcat(base_ss.sim_p, arm_ss.sim_p)\n",
    "ptheta"
   ]
  },
  {
   "cell_type": "code",
   "execution_count": 8,
   "metadata": {},
   "outputs": [],
   "source": [
    "ID_wrt_p = cs.jacobian(UVMS_ID, ptheta)"
   ]
  },
  {
   "cell_type": "code",
   "execution_count": 9,
   "metadata": {},
   "outputs": [
    {
     "data": {
      "text/plain": [
       "(10, 65)"
      ]
     },
     "execution_count": 9,
     "metadata": {},
     "output_type": "execute_result"
    }
   ],
   "source": [
    "ID_wrt_p"
   ]
  }
 ],
 "metadata": {
  "kernelspec": {
   "display_name": "Python 3",
   "language": "python",
   "name": "python3"
  },
  "language_info": {
   "codemirror_mode": {
    "name": "ipython",
    "version": 3
   },
   "file_extension": ".py",
   "mimetype": "text/x-python",
   "name": "python",
   "nbconvert_exporter": "python",
   "pygments_lexer": "ipython3",
   "version": "3.9.6"
  }
 },
 "nbformat": 4,
 "nbformat_minor": 2
}
