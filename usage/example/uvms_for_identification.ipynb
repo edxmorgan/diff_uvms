{
 "cells": [
  {
   "cell_type": "code",
   "execution_count": 1,
   "metadata": {},
   "outputs": [
    {
     "name": "stdout",
     "output_type": "stream",
     "text": [
      "jit after {'jit': True, 'jit_options': {'flags': '-Ofast'}, 'compiler': 'shell'}\n",
      "number of joints = 4\n",
      "floating_base found\n",
      "floating_base found\n",
      "floating_base found\n",
      "floating_base found\n",
      "floating_base found\n",
      "floating_base found\n",
      "floating_base found\n",
      "floating_base found\n"
     ]
    }
   ],
   "source": [
    "%run uvms_dynamics.ipynb"
   ]
  },
  {
   "cell_type": "code",
   "execution_count": 2,
   "metadata": {},
   "outputs": [],
   "source": [
    "ptheta = cs.vertcat(base_ss.sim_p, arm_ss.sim_p)"
   ]
  },
  {
   "cell_type": "code",
   "execution_count": 3,
   "metadata": {},
   "outputs": [],
   "source": [
    "UVMS_ID_coupled = UVMS_ID_use_coupled(use_coupled, z_SX, base_ss.eul, arm_ss.q, arm_ss.q_dot, arm_ss.q_ddot, base_ss.v_base,\n",
    "                                                        base_ss.a_base, base_ss.uv_u, base_ss.base_T, arm_ss.sim_p, base_ss.sim_p)\n",
    "\n",
    "UVMS_ID_decoupled = UVMS_ID_use_coupled(not use_coupled, z_SX, base_ss.eul, arm_ss.q, arm_ss.q_dot, arm_ss.q_ddot, base_ss.v_base,\n",
    "                                                        base_ss.a_base, base_ss.uv_u, base_ss.base_T, arm_ss.sim_p, base_ss.sim_p)"
   ]
  },
  {
   "cell_type": "code",
   "execution_count": 11,
   "metadata": {},
   "outputs": [
    {
     "name": "stdout",
     "output_type": "stream",
     "text": [
      "(10, 65)\n",
      "(10, 65)\n"
     ]
    }
   ],
   "source": [
    "ID_coupled_regressor = cs.jacobian(UVMS_ID_coupled, ptheta)\n",
    "print(ID_coupled_regressor.size())\n",
    "\n",
    "# useful for system identification of individual manipulator or vehicle base without the other\n",
    "ID_decoupled_regressor = cs.jacobian(UVMS_ID_decoupled, ptheta)\n",
    "print(ID_decoupled_regressor.size())"
   ]
  }
 ],
 "metadata": {
  "kernelspec": {
   "display_name": "Python 3",
   "language": "python",
   "name": "python3"
  },
  "language_info": {
   "codemirror_mode": {
    "name": "ipython",
    "version": 3
   },
   "file_extension": ".py",
   "mimetype": "text/x-python",
   "name": "python",
   "nbconvert_exporter": "python",
   "pygments_lexer": "ipython3",
   "version": "3.9.6"
  }
 },
 "nbformat": 4,
 "nbformat_minor": 2
}
