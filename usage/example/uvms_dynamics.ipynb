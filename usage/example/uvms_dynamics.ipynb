{
 "cells": [
  {
   "cell_type": "code",
   "execution_count": 1,
   "metadata": {},
   "outputs": [
    {
     "name": "stdout",
     "output_type": "stream",
     "text": [
      "jit after {'jit': True, 'jit_options': {'flags': '-Ofast'}, 'compiler': 'shell'}\n",
      "number of joints = 4\n"
     ]
    }
   ],
   "source": [
    "%run base.ipynb"
   ]
  },
  {
   "cell_type": "code",
   "execution_count": 2,
   "metadata": {},
   "outputs": [
    {
     "name": "stdout",
     "output_type": "stream",
     "text": [
      "floating_base found\n",
      "floating_base found\n",
      "floating_base found\n"
     ]
    }
   ],
   "source": [
    "# kinematics and dynamics code of these casadi objects can be found in https://github.com/edxmorgan/diff_uv project\n",
    "# these can be replaced with your preferred uv dynamics\n",
    "fb_id_func = cs.Function.load(\"float_base.casadi\")\n",
    "J_uv_func = cs.Function.load(\"J_uv.casadi\")\n",
    "\n",
    "# ned jacobian for uv kinematics\n",
    "J_uv = J_uv_func(base_ss.eul)\n",
    "\n",
    "z_SX = base_ss.p_n[2]\n",
    "\n",
    "# base bias force expressions\n",
    "zero_acc = [0,0,0,0,0,0]\n",
    "b_F = fb_id_func(z_SX, base_ss.eul, base_ss.v_base, zero_acc, base_ss.sim_p)\n",
    "\n",
    "# base inverse dynamics expressions\n",
    "tau_F = fb_id_func(z_SX, base_ss.eul, base_ss.v_base, base_ss.a_base, base_ss.sim_p)\n",
    "\n",
    "# uvms bias force and Inertia\n",
    "B = rig_dyn.get_bias_force(gravity=9.81, floating_base_bias_f=b_F, coupled=True)\n",
    "H = rig_dyn.get_inertia_matrix(gravity=9.81, floating_base_id=tau_F, floating_base_bias_f=b_F, coupled=True)"
   ]
  },
  {
   "cell_type": "code",
   "execution_count": 3,
   "metadata": {},
   "outputs": [],
   "source": [
    "H_eval = cs.Function(\n",
    "    'H', [z_SX, base_ss.eul, arm_ss.q, arm_ss.q_dot, base_ss.v_base, base_ss.uv_u, base_ss.base_T, arm_ss.sim_p, base_ss.sim_p], [H])\n",
    "B_eval = cs.Function(\n",
    "    'B', [z_SX, base_ss.eul, arm_ss.q, arm_ss.q_dot, base_ss.v_base, base_ss.uv_u, base_ss.base_T, arm_ss.sim_p, base_ss.sim_p], [B])"
   ]
  },
  {
   "cell_type": "code",
   "execution_count": 4,
   "metadata": {},
   "outputs": [
    {
     "data": {
      "text/plain": [
       "DM(\n",
       "[[0.28, 0, 0, 0, -0.23, 0, 0.00428134, 0.0189567, -0.00611939, 0.000187603], \n",
       " [0, 0.28, 0, 0.23, 0, 0, -0.00777851, -0.0183087, 0.0176397, -0.000102593], \n",
       " [0, 0, 0.28, 0, 0, 0, -0.0286729, -0.0112978, 0.00339453, 0.00334353], \n",
       " [0, 0.23, 0, 17, 0, 0, -0.0253369, 0.0182215, -0.0110527, -0.000490842], \n",
       " [-0.23, 0, 0, 0, 24.2, 0, -0.0275437, -0.0606496, 0.0187418, -0.000870158], \n",
       " [0, 0, 0, 0, 0, 26.07, -1.12198e-05, 0.00585898, 0.00776247, -3.54456e-07], \n",
       " [0, 0, 0, 0, 0, 0, 0.0225364, 1.24241e-06, -3.38627e-07, -1.53776e-06], \n",
       " [0, 0, 0, 0, 0, 0, 2.32282e-06, 0.022534, -8.73647e-06, 2.2922e-08], \n",
       " [0, 0, 0, 0, 0, 0, -6.74167e-07, 1.13485e-06, 0.022535, 8.72574e-09], \n",
       " [0, 0, 0, 0, 0, 0, -2.99173e-08, 1.77816e-07, 3.90861e-08, 0.00340423]])"
      ]
     },
     "execution_count": 4,
     "metadata": {},
     "output_type": "execute_result"
    }
   ],
   "source": [
    "qq, qqd = [0.0, 0.0, 0.0, 0.0], [0.0, 0.0, 0.0, 0.0]\n",
    "v0 = [0, 0, 0, 0, 0, 0]\n",
    "eul0 = [0, 0, 0]\n",
    "uv_u = [0, 0, 0, 0, 0, 0]\n",
    "\n",
    "H_eval(blue.below_surface, eul0, qq, qqd, v0, uv_u, alpha.base_T0, alpha.sim_p, blue.sim_p)"
   ]
  },
  {
   "cell_type": "code",
   "execution_count": 5,
   "metadata": {},
   "outputs": [],
   "source": [
    "# for H's decoupled version, compare to these matrix\n",
    "#[Hv 0]\n",
    "#[0 Hm]\n",
    "\n",
    "# vehicle base inertia matrix, Hv :\n",
    "# [[ 0.28  0.    0.    0.   -0.23  0.  ]\n",
    "#  [ 0.    0.28  0.    0.23  0.    0.  ]\n",
    "#  [ 0.    0.    0.28  0.    0.    0.  ]\n",
    "#  [ 0.    0.23  0.   17.    0.    0.  ]\n",
    "#  [-0.23  0.    0.    0.   24.2   0.  ]\n",
    "#  [ 0.    0.    0.    0.    0.   26.07]]\n",
    "\n",
    "# Manipulator inertia matrix, Hm :\n",
    "# M = rig_dyn.get_inertia_matrix(gravity=9.81, floating_base_id=None, floating_base_bias_f=None, coupled=False)\n",
    "# M_eval = cs.Function('H', [ss.q, ss.q_dot,  ss.base_T, ss.sim_p], [M])\n",
    "# M_eval(qq, qqd, alpha.base_T0, alpha.sim_p)\n",
    "\n",
    "# DM(\n",
    "# [[0.0225364, 1.24241e-06, -3.38627e-07, -1.53776e-06], \n",
    "#  [2.32282e-06, 0.022534, -8.73647e-06, 2.2922e-08], \n",
    "#  [-6.74167e-07, 1.13485e-06, 0.022535, 8.72574e-09], \n",
    "#  [-2.99173e-08, 1.77816e-07, 3.90861e-08, 0.00340423]])"
   ]
  },
  {
   "cell_type": "code",
   "execution_count": 6,
   "metadata": {},
   "outputs": [],
   "source": [
    "# for B_F's decoupled version, compare to these matrix\n",
    "#[B_Fv]\n",
    "#[C_Fm]\n",
    "\n",
    "# B_F_eval = cs.Function('B_F_v', [z_SX, ss.eul, ss.v_base], [b_F]) # for numerical & symbolic use\n",
    "# B_Fv = B_F_eval(blue.below_surface, eul0, v0)\n",
    "# DM([0, 0, 0, 0, 0, 1.985])\n",
    "\n",
    "# C = rig_dyn.get_bias_force(gravity=9.81, floating_base_bias_f=None, coupled=False)\n",
    "# C_eval = cs.Function('C', [ss.q, ss.q_dot,  ss.base_T, ss.sim_p], [C])\n",
    "# C_eval(qq, qqd, alpha.base_T0, alpha.sim_p)"
   ]
  },
  {
   "cell_type": "code",
   "execution_count": null,
   "metadata": {},
   "outputs": [],
   "source": []
  }
 ],
 "metadata": {
  "kernelspec": {
   "display_name": "Python 3",
   "language": "python",
   "name": "python3"
  },
  "language_info": {
   "codemirror_mode": {
    "name": "ipython",
    "version": 3
   },
   "file_extension": ".py",
   "mimetype": "text/x-python",
   "name": "python",
   "nbconvert_exporter": "python",
   "pygments_lexer": "ipython3",
   "version": "3.9.6"
  }
 },
 "nbformat": 4,
 "nbformat_minor": 2
}
